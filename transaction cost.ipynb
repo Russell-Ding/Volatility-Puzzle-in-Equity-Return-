{
 "cells": [
  {
   "cell_type": "code",
   "execution_count": 5,
   "metadata": {
    "collapsed": false
   },
   "outputs": [],
   "source": [
    "import pandas as pd\n",
    "import setting\n",
    "import numpy as np\n",
    "\n",
    "import datetime\n",
    "from dateutil.relativedelta import relativedelta\n",
    "\n",
    "\n",
    "\n",
    "#load portfolio weight\n",
    "\n",
    "p_weight=pd.read_pickle(setting.datapath_pf_weight+'pfweight_FF_L_VOL_24W_lag_lag_False1963-07-2016-12.pkl')\n",
    "\n",
    "\n",
    "start_date=datetime.datetime(1963,7,1)\n",
    "\n",
    "end_date=datetime.datetime(2016,12,1)\n",
    "\n",
    "p_return=pd.read_csv(setting.datapath_prepared+'M_RET.csv')\n",
    "p_return['date']=pd.to_datetime(p_return['date'])\n",
    "\n",
    "t_cost=pd.DataFrame(columns=[1,2,3,4,5])\n",
    "\n",
    "while (start_date<end_date):\n",
    "    \n",
    "    next_month=start_date+relativedelta(months=+1)\n",
    "\n",
    "    weight=p_weight[start_date]\n",
    "\n",
    "    weight_nextm=p_weight[next_month]\n",
    "\n",
    "    \n",
    "    \n",
    "    month_return=p_return[p_return['date']==start_date]\n",
    "    temp=pd.DataFrame(index=[start_date],columns=[1,2,3,4,5])\n",
    "    for i in range(1,6):\n",
    "        \n",
    "        m_return=month_return[month_return['PERMNO'].isin(list(weight[i-1].index.values))]\n",
    "        portfolio=m_return[['PERMNO','M_RET']]\n",
    "        portfolio=portfolio.set_index('PERMNO')\n",
    "\n",
    "        portfolio=pd.concat([portfolio,weight[i-1]],axis=1,join='inner')\n",
    "\n",
    "        portfolio['new weight']=portfolio['M_RET']*portfolio['weight']\n",
    "\n",
    "        total=portfolio['new weight'].sum()\n",
    "\n",
    "        portfolio['new weight']=portfolio['new weight']/total\n",
    "\n",
    "        port_change=pd.concat([weight_nextm[i-1],portfolio['new weight']],axis=1)\n",
    "        port_change=port_change.fillna(0)\n",
    "        port_change['rebalance']=np.abs(port_change['new weight']-port_change['weight'])\n",
    "        weight_change=port_change['rebalance'].sum()\n",
    "        temp.loc[start_date,i]=weight_change\n",
    "    t_cost=pd.concat([t_cost,temp],axis=0)\n",
    "    start_date=next_month\n",
    "    \n",
    "t_cost.to_excel(setting.datapath+'transaction cost pfweight_FF_L_VOL_24W_lag_lag_False1963-07-2016-12.xlsx')"
   ]
  },
  {
   "cell_type": "code",
   "execution_count": null,
   "metadata": {
    "collapsed": true
   },
   "outputs": [],
   "source": [
    "#load portfolio return\n",
    "p_return=pd.read_csv(setting.datapath_prepared+'M_RET.csv')\n",
    "p_return['date']=pd.to_datetime(p_return['date'])"
   ]
  },
  {
   "cell_type": "code",
   "execution_count": null,
   "metadata": {
    "collapsed": false
   },
   "outputs": [],
   "source": [
    "\n",
    "month_return=p_return[p_return['date']==start_date]\n",
    "\n",
    "m_return=month_return[month_return['PERMNO'].isin(list(weight[0].index.values))]\n",
    "portfolio=m_return[['PERMNO','M_RET']]\n",
    "portfolio=portfolio.set_index('PERMNO')\n",
    "\n",
    "portfolio=pd.concat([portfolio,weight[0]],axis=1,join='inner')"
   ]
  },
  {
   "cell_type": "code",
   "execution_count": null,
   "metadata": {
    "collapsed": false
   },
   "outputs": [],
   "source": [
    "portfolio['new weight']=portfolio['M_RET']*portfolio['weight']\n",
    "\n",
    "total=portfolio['new weight'].sum()\n",
    "\n",
    "portfolio['new weight']=portfolio['new weight']/total\n"
   ]
  },
  {
   "cell_type": "code",
   "execution_count": null,
   "metadata": {
    "collapsed": false
   },
   "outputs": [],
   "source": [
    "port_change=pd.concat([weight_nextm[0],portfolio['new weight']],axis=1)\n",
    "port_change=port_change.fillna(0)\n",
    "port_change['rebalance']=np.abs(port_change['new weight']-port_change['weight'])\n",
    "weight_change=port_change['rebalance'].sum()\n",
    "print (weight_change)"
   ]
  },
  {
   "cell_type": "code",
   "execution_count": null,
   "metadata": {
    "collapsed": false
   },
   "outputs": [],
   "source": [
    "#Check if we only use differences in beginning portfolio weight\n",
    "\n",
    "port_weight_change=pd.concat([weight[0],weight_nextm[0]],axis=1)\n",
    "port_weight_change.columns=['old','new']\n",
    "\n",
    "port_weight_change=port_weight_change.fillna(0)\n",
    "port_weight_change['rebalance']=np.abs(port_weight_change['old']-port_weight_change['new'])\n",
    "weight_change1=port_weight_change['rebalance'].sum()\n",
    "print (weight_change1)"
   ]
  },
  {
   "cell_type": "code",
   "execution_count": null,
   "metadata": {
    "collapsed": true
   },
   "outputs": [],
   "source": []
  }
 ],
 "metadata": {
  "anaconda-cloud": {},
  "kernelspec": {
   "display_name": "Python [conda root]",
   "language": "python",
   "name": "conda-root-py"
  },
  "language_info": {
   "codemirror_mode": {
    "name": "ipython",
    "version": 3
   },
   "file_extension": ".py",
   "mimetype": "text/x-python",
   "name": "python",
   "nbconvert_exporter": "python",
   "pygments_lexer": "ipython3",
   "version": "3.5.2"
  }
 },
 "nbformat": 4,
 "nbformat_minor": 1
}
