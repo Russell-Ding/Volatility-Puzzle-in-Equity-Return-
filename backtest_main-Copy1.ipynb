{
 "cells": [
  {
   "cell_type": "code",
   "execution_count": 1,
   "metadata": {
    "collapsed": true
   },
   "outputs": [],
   "source": [
    "import datetime\n",
    "import numpy as np\n",
    "import pandas as pd\n",
    "\n",
    "import sys\n",
    "sys.path.append('C:\\\\project\\\\code')\n",
    "import setting\n"
   ]
  },
  {
   "cell_type": "code",
   "execution_count": null,
   "metadata": {
    "collapsed": false
   },
   "outputs": [],
   "source": [
    "import cleandata_2"
   ]
  },
  {
   "cell_type": "markdown",
   "metadata": {},
   "source": [
    "# 0. Prepare monthly data"
   ]
  },
  {
   "cell_type": "code",
   "execution_count": null,
   "metadata": {
    "collapsed": false,
    "scrolled": false
   },
   "outputs": [],
   "source": [
    "import prepare_data\n",
    "data = pd.read_hdf('../input/full_data_0218_washed.h5', key='data')\n",
    "print('Done reading h5...')\n",
    "\n",
    "daily_return, monthly_return = prepare_data.main_total_vol(data, path='../input/from_prepare_data/')"
   ]
  },
  {
   "cell_type": "code",
   "execution_count": null,
   "metadata": {
    "collapsed": false
   },
   "outputs": [],
   "source": [
    "del daily_return, monthly_return"
   ]
  },
  {
   "cell_type": "markdown",
   "metadata": {},
   "source": [
    "# 1. Create and save investable univesre"
   ]
  },
  {
   "cell_type": "code",
   "execution_count": null,
   "metadata": {
    "collapsed": true
   },
   "outputs": [],
   "source": [
    "cleandata_2.create_invest_universe(setting.datapath+'full_data_0218_washed.h5',\n",
    "                           setting.datapath+'investable_universe_test.npy',\n",
    "                           datetime.datetime(1962, 1, 1),\n",
    "                           datetime.datetime(2001, 1, 1))"
   ]
  },
  {
   "cell_type": "markdown",
   "metadata": {},
   "source": [
    "# 2. Create portfolio weights"
   ]
  },
  {
   "cell_type": "code",
   "execution_count": null,
   "metadata": {
    "collapsed": true
   },
   "outputs": [],
   "source": [
    "import form_portfolio"
   ]
  },
  {
   "cell_type": "markdown",
   "metadata": {},
   "source": [
    "## 2.1 Vol from Monthly\n",
    "### 2.1.1 Total Vol"
   ]
  },
  {
   "cell_type": "code",
   "execution_count": 47,
   "metadata": {
    "collapsed": false
   },
   "outputs": [
    {
     "name": "stdout",
     "output_type": "stream",
     "text": [
      "Portfolio formed for _M_VOL_lag\n",
      "Portfolio formed for _L_VOL_12M_lag_lag\n",
      "Portfolio formed for _L_VOL_18M_lag_lag\n",
      "Portfolio formed for _L_VOL_24M_lag_lag\n",
      "Portfolio formed for _L_VOL_36M_lag_lag\n",
      "Portfolio formed for _M_VOL_lag_L_VOL_12M_lag_lag\n",
      "Portfolio formed for _M_VOL_lag_L_VOL_18M_lag_lag\n",
      "Portfolio formed for _M_VOL_lag_L_VOL_24M_lag_lag\n",
      "Portfolio formed for _M_VOL_lag_L_VOL_36M_lag_lag\n",
      "Portfolio formed for _M_VOL_lag\n",
      "Portfolio formed for _L_VOL_12M_lag_lag\n",
      "Portfolio formed for _L_VOL_18M_lag_lag\n",
      "Portfolio formed for _L_VOL_24M_lag_lag\n",
      "Portfolio formed for _L_VOL_36M_lag_lag\n",
      "Portfolio formed for _M_VOL_lag_L_VOL_12M_lag_lag\n",
      "Portfolio formed for _M_VOL_lag_L_VOL_18M_lag_lag\n",
      "Portfolio formed for _M_VOL_lag_L_VOL_24M_lag_lag\n",
      "Portfolio formed for _M_VOL_lag_L_VOL_36M_lag_lag\n"
     ]
    }
   ],
   "source": [
    "file_list = ['M_VOL', 'L_VOL_12M', 'L_VOL_18M', 'L_VOL_24M', 'L_VOL_36M', 'MKTCAP_M']\n",
    "list_execute = [['M_VOL_lag'], \n",
    "                ['L_VOL_12M_lag_lag'], ['L_VOL_18M_lag_lag'], ['L_VOL_24M_lag_lag'], ['L_VOL_36M_lag_lag'],\n",
    "                ['M_VOL_lag', 'L_VOL_12M_lag_lag'],\n",
    "                ['M_VOL_lag', 'L_VOL_18M_lag_lag'],\n",
    "                ['M_VOL_lag', 'L_VOL_24M_lag_lag'],\n",
    "                ['M_VOL_lag', 'L_VOL_36M_lag_lag']\n",
    "                ]\n",
    "date_list = [datetime.datetime(1965, 2, 1), datetime.datetime(2016, 12, 31)]\n",
    "\n",
    "for nyse_break in [True, False]:\n",
    "    form_portfolio.form_portfolio(files=file_list, investable_universe_npy='investable_universe_0221.npy',\n",
    "                              nyse_permno_xlsx='NYSE PERMNO.xlsx', list_execute=list_execute,\n",
    "                              nyse_break=nyse_break, startdate=date_list[0], enddate=date_list[1])"
   ]
  },
  {
   "cell_type": "markdown",
   "metadata": {},
   "source": [
    "### 2.1.2 Idio Vol"
   ]
  },
  {
   "cell_type": "code",
   "execution_count": 16,
   "metadata": {
    "collapsed": true
   },
   "outputs": [
    {
     "name": "stdout",
     "output_type": "stream",
     "text": [
      "Portfolio formed for _FF_M_VOL_lag\n",
      "Portfolio formed for _FF_L_VOL_12M_lag_lag\n",
      "Portfolio formed for _FF_L_VOL_18M_lag_lag\n",
      "Portfolio formed for _FF_L_VOL_24M_lag_lag\n",
      "Portfolio formed for _FF_L_VOL_36M_lag_lag\n",
      "Portfolio formed for _FF_M_VOL_lag_FF_L_VOL_12M_lag_lag\n",
      "Portfolio formed for _FF_M_VOL_lag_FF_L_VOL_18M_lag_lag\n",
      "Portfolio formed for _FF_M_VOL_lag_FF_L_VOL_24M_lag_lag\n",
      "Portfolio formed for _FF_M_VOL_lag_FF_L_VOL_36M_lag_lag\n",
      "Portfolio formed for _FF_M_VOL_lag\n",
      "Portfolio formed for _FF_L_VOL_12M_lag_lag\n",
      "Portfolio formed for _FF_L_VOL_18M_lag_lag\n",
      "Portfolio formed for _FF_L_VOL_24M_lag_lag\n",
      "Portfolio formed for _FF_L_VOL_36M_lag_lag\n",
      "Portfolio formed for _FF_M_VOL_lag_FF_L_VOL_12M_lag_lag\n",
      "Portfolio formed for _FF_M_VOL_lag_FF_L_VOL_18M_lag_lag\n",
      "Portfolio formed for _FF_M_VOL_lag_FF_L_VOL_24M_lag_lag\n",
      "Portfolio formed for _FF_M_VOL_lag_FF_L_VOL_36M_lag_lag\n"
     ]
    }
   ],
   "source": [
    "file_list = ['FF_M_VOL', 'FF_L_VOL_12M', 'FF_L_VOL_18M', 'FF_L_VOL_24M', 'FF_L_VOL_36M', 'MKTCAP_M']\n",
    "list_execute = [['FF_M_VOL_lag'], \n",
    "                ['FF_L_VOL_12M_lag_lag'], ['FF_L_VOL_18M_lag_lag'], ['FF_L_VOL_24M_lag_lag'], ['FF_L_VOL_36M_lag_lag'],\n",
    "                ['FF_M_VOL_lag', 'FF_L_VOL_12M_lag_lag'],\n",
    "                ['FF_M_VOL_lag', 'FF_L_VOL_18M_lag_lag'],\n",
    "                ['FF_M_VOL_lag', 'FF_L_VOL_24M_lag_lag'],\n",
    "                ['FF_M_VOL_lag', 'FF_L_VOL_36M_lag_lag']\n",
    "                ]\n",
    "date_list = [datetime.datetime(1965, 2, 1), datetime.datetime(2016, 12, 31)]\n",
    "\n",
    "for nyse_break in [True, False]:\n",
    "    form_portfolio.form_portfolio(files=file_list, investable_universe_npy='investable_universe_0221.npy',\n",
    "                              nyse_permno_xlsx='NYSE PERMNO.xlsx', list_execute=list_execute,\n",
    "                              nyse_break=nyse_break, startdate=date_list[0], enddate=date_list[1])"
   ]
  },
  {
   "cell_type": "code",
   "execution_count": 31,
   "metadata": {
    "collapsed": true
   },
   "outputs": [],
   "source": [
    "test1 = pd.read_csv('../input/from_prepare_data/FF_L_VOL_24M.csv')\n",
    "test2 = pd.read_csv('../input/from_prepare_data/L_VOL_24M.csv')"
   ]
  },
  {
   "cell_type": "code",
   "execution_count": 32,
   "metadata": {
    "collapsed": false
   },
   "outputs": [
    {
     "data": {
      "text/plain": [
       "2440"
      ]
     },
     "execution_count": 32,
     "metadata": {},
     "output_type": "execute_result"
    }
   ],
   "source": [
    "len(test1['PERMNO'].unique()) - len(test2['PERMNO'].unique())"
   ]
  },
  {
   "cell_type": "code",
   "execution_count": 35,
   "metadata": {
    "collapsed": false
   },
   "outputs": [],
   "source": [
    "more_stk = set(test1['PERMNO']).difference(set(test2['PERMNO']))"
   ]
  },
  {
   "cell_type": "code",
   "execution_count": 37,
   "metadata": {
    "collapsed": false
   },
   "outputs": [],
   "source": [
    "more_stk = list(more_stk)"
   ]
  },
  {
   "cell_type": "code",
   "execution_count": 44,
   "metadata": {
    "collapsed": false
   },
   "outputs": [
    {
     "name": "stdout",
     "output_type": "stream",
     "text": [
      "20.26764585883313\n"
     ]
    }
   ],
   "source": [
    "x = 0.0\n",
    "for i in range(len(more_stk)):\n",
    "    x += test1.ix[test1['PERMNO'] == more_stk[i]].shape[0]\n",
    "    \n",
    "print(x/len(more_stk))"
   ]
  },
  {
   "cell_type": "code",
   "execution_count": 39,
   "metadata": {
    "collapsed": false
   },
   "outputs": [
    {
     "data": {
      "text/plain": [
       "49155"
      ]
     },
     "execution_count": 39,
     "metadata": {},
     "output_type": "execute_result"
    }
   ],
   "source": [
    "more_stk[0]"
   ]
  },
  {
   "cell_type": "code",
   "execution_count": 18,
   "metadata": {
    "collapsed": false
   },
   "outputs": [
    {
     "data": {
      "text/plain": [
       "22234"
      ]
     },
     "execution_count": 18,
     "metadata": {},
     "output_type": "execute_result"
    }
   ],
   "source": []
  },
  {
   "cell_type": "code",
   "execution_count": null,
   "metadata": {
    "collapsed": true
   },
   "outputs": [],
   "source": [
    "# origianl short selling measures"
   ]
  },
  {
   "cell_type": "code",
   "execution_count": 39,
   "metadata": {
    "collapsed": true
   },
   "outputs": [
    {
     "name": "stdout",
     "output_type": "stream",
     "text": [
      "Portfolio formed for _M_VOL_lag_L_VOL_24W_lag_lag\n",
      "Portfolio formed for _FF_M_VOL_lag\n",
      "Portfolio formed for _FF_M_VOL_lag_FF_L_VOL_24W_lag_lag\n",
      "Portfolio formed for _FF_M_VOL_lag_DS_ratio_lag\n",
      "Portfolio formed for _FF_M_VOL_lag_UtilisationByQuantity_lag\n",
      "Portfolio formed for _M_VOL_lag_L_VOL_24W_lag_lag\n",
      "Portfolio formed for _FF_M_VOL_lag\n",
      "Portfolio formed for _FF_M_VOL_lag_FF_L_VOL_24W_lag_lag\n",
      "Portfolio formed for _FF_M_VOL_lag_DS_ratio_lag\n",
      "Portfolio formed for _FF_M_VOL_lag_UtilisationByQuantity_lag\n"
     ]
    }
   ],
   "source": [
    "# # file_list = ['M_VOL', 'L_VOL_12M', 'MKTCAP_M', 'DS_ratio', 'UtilisationByQuantity']\n",
    "# # list_execute = [['M_VOL_lag'], ['L_VOL_12M_lag'], ['M_VOL_lag', 'L_VOL_12M_lag'],\n",
    "# #                 ['M_VOL_lag', 'DS_ratio_lag'],  ['M_VOL_lag', 'UtilisationByQuantity_lag']]\n",
    "\n",
    "# file_list = ['M_VOL', 'L_VOL_24W', 'FF_M_VOL', 'FF_L_VOL_24W', 'MKTCAP_M', 'DS_ratio', 'UtilisationByQuantity']\n",
    "\n",
    "# list_execute = [\n",
    "# #     ['M_VOL_lag'], \n",
    "#      ['M_VOL_lag', 'L_VOL_24W_lag_lag'],\n",
    "#                 ['FF_M_VOL_lag'],\n",
    "#                 ['FF_M_VOL_lag', 'FF_L_VOL_24W_lag_lag'],\n",
    "# #                 ['M_VOL_lag', 'DS_ratio_lag'],  ['M_VOL_lag', 'UtilisationByQuantity_lag'],\n",
    "#                 ['FF_M_VOL_lag', 'DS_ratio_lag'],  ['FF_M_VOL_lag', 'UtilisationByQuantity_lag']]\n",
    "\n",
    "# date_list = [datetime.datetime(2004, 6, 1), datetime.datetime(2016, 12, 31)]\n",
    "\n",
    "# for nyse_break in [True, False]:\n",
    "#     form_portfolio.form_portfolio(files=file_list, investable_universe_npy='investable_universe_0221.npy',\n",
    "#                               nyse_permno_xlsx='NYSE PERMNO.xlsx', list_execute=list_execute,\n",
    "#                               nyse_break=nyse_break, startdate=date_list[0], enddate=date_list[1])"
   ]
  },
  {
   "cell_type": "markdown",
   "metadata": {
    "collapsed": true
   },
   "source": [
    "## 2.2 Vol from Weekly return \n",
    "### 2.2.1 total Vol"
   ]
  },
  {
   "cell_type": "code",
   "execution_count": 4,
   "metadata": {
    "collapsed": true
   },
   "outputs": [
    {
     "name": "stdout",
     "output_type": "stream",
     "text": [
      "Portfolio formed for _M_VOL_lag\n",
      "Portfolio formed for _L_VOL_24W_lag_lag\n",
      "Portfolio formed for _L_VOL_48W_lag_lag\n",
      "Portfolio formed for _L_VOL_72W_lag_lag\n",
      "Portfolio formed for _M_VOL_lag_L_VOL_24W_lag_lag\n",
      "Portfolio formed for _M_VOL_lag_L_VOL_48W_lag_lag\n",
      "Portfolio formed for _M_VOL_lag_L_VOL_72W_lag_lag\n",
      "Portfolio formed for _M_VOL_lag\n",
      "Portfolio formed for _L_VOL_24W_lag_lag\n",
      "Portfolio formed for _L_VOL_48W_lag_lag\n",
      "Portfolio formed for _L_VOL_72W_lag_lag\n",
      "Portfolio formed for _M_VOL_lag_L_VOL_24W_lag_lag\n",
      "Portfolio formed for _M_VOL_lag_L_VOL_48W_lag_lag\n",
      "Portfolio formed for _M_VOL_lag_L_VOL_72W_lag_lag\n"
     ]
    }
   ],
   "source": [
    "file_list = ['M_VOL', 'L_VOL_24W', 'L_VOL_48W', 'L_VOL_72W', 'MKTCAP_M']\n",
    "list_execute = [['M_VOL_lag'], \n",
    "                ['L_VOL_24W_lag_lag'], ['L_VOL_48W_lag_lag'], ['L_VOL_72W_lag_lag'], \n",
    "                ['M_VOL_lag', 'L_VOL_24W_lag_lag'],\n",
    "                ['M_VOL_lag', 'L_VOL_48W_lag_lag'],\n",
    "                ['M_VOL_lag', 'L_VOL_72W_lag_lag']]\n",
    "date_list = [datetime.datetime(1963, 7, 1), datetime.datetime(2016, 12, 31)]\n",
    "\n",
    "for nyse_break in [True, False]:\n",
    "    form_portfolio.form_portfolio(files=file_list, investable_universe_npy='investable_universe_0221.npy',\n",
    "                              nyse_permno_xlsx='NYSE PERMNO.xlsx', list_execute=list_execute,\n",
    "                              nyse_break=nyse_break, startdate=date_list[0], enddate=date_list[1])"
   ]
  },
  {
   "cell_type": "markdown",
   "metadata": {
    "collapsed": true
   },
   "source": [
    "### 2.2.2 Idio Vol"
   ]
  },
  {
   "cell_type": "code",
   "execution_count": 5,
   "metadata": {
    "collapsed": true
   },
   "outputs": [
    {
     "name": "stdout",
     "output_type": "stream",
     "text": [
      "Portfolio formed for _FF_M_VOL_lag\n",
      "Portfolio formed for _FF_L_VOL_24W_lag_lag\n",
      "Portfolio formed for _FF_L_VOL_48W_lag_lag\n",
      "Portfolio formed for _FF_L_VOL_72W_lag_lag\n",
      "Portfolio formed for _FF_M_VOL_lag_FF_L_VOL_24W_lag_lag\n",
      "Portfolio formed for _FF_M_VOL_lag_FF_L_VOL_48W_lag_lag\n",
      "Portfolio formed for _FF_M_VOL_lag_FF_L_VOL_72W_lag_lag\n",
      "Portfolio formed for _FF_M_VOL_lag\n",
      "Portfolio formed for _FF_L_VOL_24W_lag_lag\n",
      "Portfolio formed for _FF_L_VOL_48W_lag_lag\n",
      "Portfolio formed for _FF_L_VOL_72W_lag_lag\n",
      "Portfolio formed for _FF_M_VOL_lag_FF_L_VOL_24W_lag_lag\n",
      "Portfolio formed for _FF_M_VOL_lag_FF_L_VOL_48W_lag_lag\n",
      "Portfolio formed for _FF_M_VOL_lag_FF_L_VOL_72W_lag_lag\n"
     ]
    }
   ],
   "source": [
    "file_list = ['FF_M_VOL', 'FF_L_VOL_24W', 'FF_L_VOL_48W', 'FF_L_VOL_72W','MKTCAP_M']\n",
    "list_execute = [['FF_M_VOL_lag'], \n",
    "                ['FF_L_VOL_24W_lag_lag'],\n",
    "                ['FF_L_VOL_48W_lag_lag'],\n",
    "                ['FF_L_VOL_72W_lag_lag'],\n",
    "                ['FF_M_VOL_lag', 'FF_L_VOL_24W_lag_lag'],\n",
    "                ['FF_M_VOL_lag', 'FF_L_VOL_48W_lag_lag'],\n",
    "                ['FF_M_VOL_lag', 'FF_L_VOL_72W_lag_lag']\n",
    "                ]\n",
    "date_list = [datetime.datetime(1963, 7, 1), datetime.datetime(2016, 12, 31)]\n",
    "\n",
    "for nyse_break in [True, False]:\n",
    "    form_portfolio.form_portfolio(files=file_list, investable_universe_npy='investable_universe_0221.npy',\n",
    "                              nyse_permno_xlsx='NYSE PERMNO.xlsx', list_execute=list_execute,\n",
    "                              nyse_break=nyse_break, startdate=date_list[0], enddate=date_list[1])"
   ]
  },
  {
   "cell_type": "markdown",
   "metadata": {},
   "source": [
    "## 2.3 Vol and Other Factors\n",
    "### 2.3.1 With Indicative Fee"
   ]
  },
  {
   "cell_type": "code",
   "execution_count": 20,
   "metadata": {
    "collapsed": false,
    "scrolled": false
   },
   "outputs": [
    {
     "name": "stdout",
     "output_type": "stream",
     "text": [
      "Portfolio formed for _FF_M_VOL_lag\n",
      "Portfolio formed for _FF_M_VOL_lag\n"
     ]
    }
   ],
   "source": [
    "file_list = ['M_VOL', 'FF_M_VOL', 'IndicativeFee' , 'MKTCAP_M']\n",
    "list_execute = [['M_VOL_lag'], ['FF_M_VOL_lag'], ['IndicativeFee'],\n",
    "                ['M_VOL_lag', 'IndicativeFee_lag'],\n",
    "                ['FF_M_VOL_lag', 'IndicativeFee_lag']\n",
    "                ]\n",
    "\n",
    "date_list = [datetime.datetime(2004, 1, 1), datetime.datetime(2016, 12, 31)]\n",
    "\n",
    "for nyse_break in [True, False]:\n",
    "    form_portfolio.form_portfolio(files=file_list, investable_universe_npy='investable_universe_0221.npy',\n",
    "                              nyse_permno_xlsx='NYSE PERMNO.xlsx', list_execute=list_execute,\n",
    "                              nyse_break=nyse_break, startdate=date_list[0], enddate=date_list[1])"
   ]
  },
  {
   "cell_type": "markdown",
   "metadata": {},
   "source": [
    "### 2.3.2 With Size and Momentum"
   ]
  },
  {
   "cell_type": "code",
   "execution_count": 21,
   "metadata": {
    "collapsed": false
   },
   "outputs": [
    {
     "name": "stdout",
     "output_type": "stream",
     "text": [
      "Portfolio formed for _FF_M_VOL_lag\n",
      "Portfolio formed for _FF_M_VOL_lag\n"
     ]
    }
   ],
   "source": [
    "file_list = ['M_VOL', 'FF_M_VOL', 'M_RET', 'MKTCAP_M']\n",
    "list_execute = [['M_VOL_lag'], ['FF_M_VOL_lag'], ['MKTCAP_M_lag'], ['M_RET_lag'],\n",
    "                ['M_VOL_lag', 'MKTCAP_M_lag'],\n",
    "                ['FF_M_VOL_lag', 'MKTCAP_M_lag'],\n",
    "                ['M_VOL_lag', 'M_RET_lag'],\n",
    "                ['FF_M_VOL_lag', 'M_RET_lag'],\n",
    "                ]\n",
    "\n",
    "date_list = [datetime.datetime(1963, 7, 1), datetime.datetime(2016, 12, 31)]\n",
    "\n",
    "for nyse_break in [True, False]:\n",
    "    form_portfolio.form_portfolio(files=file_list, investable_universe_npy='investable_universe_0221.npy',\n",
    "                              nyse_permno_xlsx='NYSE PERMNO.xlsx', list_execute=list_execute,\n",
    "                              nyse_break=nyse_break, startdate=date_list[0], enddate=date_list[1])"
   ]
  },
  {
   "cell_type": "markdown",
   "metadata": {},
   "source": [
    "### 2.3.3 With beta"
   ]
  },
  {
   "cell_type": "code",
   "execution_count": 22,
   "metadata": {
    "collapsed": false
   },
   "outputs": [
    {
     "name": "stdout",
     "output_type": "stream",
     "text": [
      "Portfolio formed for _FF_M_VOL_lag\n",
      "Portfolio formed for _FF_M_VOL_lag\n"
     ]
    }
   ],
   "source": [
    "file_list = ['M_VOL', 'FF_M_VOL', 'MKTCAP_M', 'beta']\n",
    "list_execute = [['M_VOL_lag'], ['FF_M_VOL_lag'], ['beta_lag'],\n",
    "                ['M_VOL_lag', 'beta_lag'],\n",
    "                ['FF_M_VOL_lag', 'beta_lag'],\n",
    "                ]\n",
    "\n",
    "date_list = [datetime.datetime(1968, 7, 1), datetime.datetime(2016, 12, 31)]\n",
    "\n",
    "for nyse_break in [True, False]:\n",
    "    form_portfolio.form_portfolio(files=file_list, investable_universe_npy='investable_universe_0221.npy',\n",
    "                              nyse_permno_xlsx='NYSE PERMNO.xlsx', list_execute=list_execute,\n",
    "                              nyse_break=nyse_break, startdate=date_list[0], enddate=date_list[1])"
   ]
  },
  {
   "cell_type": "markdown",
   "metadata": {},
   "source": [
    "# 3. Post-data Analysis\n",
    "## 3.1 Helper functions"
   ]
  },
  {
   "cell_type": "code",
   "execution_count": 12,
   "metadata": {
    "collapsed": false
   },
   "outputs": [],
   "source": [
    "import scipy.stats\n",
    "import statsmodels.api as sm\n",
    "\n",
    "def read_in_signal(name):\n",
    "    \"\"\"Read in signal from data prepared\"\"\"\n",
    "    m_data = pd.read_csv(setting.datapath_prepared+name+'.csv')\n",
    "    m_data['date'] = pd.to_datetime(m_data['date'])\n",
    "#     m_data_pivot =pd.pivot_table(m_data,columns=['PERMNO'],index=['date'],values=[name])\n",
    "    m_data_pivot =pd.pivot_table(m_data,columns='PERMNO',index='date',values=name)\n",
    "    return m_data_pivot\n",
    "\n",
    "\n",
    "def select_range(m_data, start, end):\n",
    "    idx = (m_data.index >= start) & (m_data.index < end)\n",
    "    return m_data.ix[idx]\n",
    "\n",
    "\n",
    "def analyze_ret(return_series, average_cap_pct, signal_series_list, signal_names):\n",
    "    n = return_series.shape[1]\n",
    "    \n",
    "    amean_ret = return_series.mean()*100\n",
    "    gmean_ret = pd.Series((scipy.stats.mstats.gmean(np.array(1.0+return_series.values, \n",
    "                                                             dtype=float), axis=0)-1.0)*100,\n",
    "                          index=np.arange(n)+1)\n",
    "    \n",
    "    ret_std = np.std(return_series, axis=0)\n",
    "    \n",
    "    pf_info_list = []\n",
    "    if signal_series_list is not None:\n",
    "        for i in range(len(signal_series_list)):\n",
    "            pf_info_list.append(signal_series_list[i].mean())\n",
    "    \n",
    "    info_summary = [amean_ret, gmean_ret, ret_std, average_cap_pct] + pf_info_list\n",
    "    info_summary = pd.concat(info_summary, axis=1)\n",
    "    info_summary.columns = ['Mthly Arithmetic Mean Ret%', 'Mthly Geometric Mean Ret',\n",
    "                            'Std of Ret', 'Market Cap%']+signal_names\n",
    "    info_summary = info_summary.round(decimals=3)\n",
    "    \n",
    "    return info_summary\n",
    "\n",
    "\n",
    "def mean_t_stat(tseries, maxlag=20):\n",
    "    \"\"\"\n",
    "    http://statsmodels.sourceforge.net/devel/stats.html\n",
    "    Return:\n",
    "        [parameter, Newey West t-stat]\n",
    "    \"\"\"\n",
    "    model = sm.OLS(np.array(tseries, dtype=float), np.ones(len(tseries)))\n",
    "    result = model.fit(cov_type='HAC',cov_kwds={'maxlags':maxlag})\n",
    "    nw_t_value = result.tvalues[0]\n",
    "    # or \n",
    "    # nw_t_value = result.params/np.sqrt(sm.stats.sandwich_covariance.cov_hac(result, nlags=maxlag))[0]\n",
    "    \n",
    "    return [result.params[0], result.tvalues[0]]\n",
    "    \n",
    "\n",
    "def alpha_test(tseries, ff, minusRF, ffalpha=True, maxlag=12):\n",
    "    \"\"\"Calculate the alpha of a series of monthly return\n",
    "    Args:\n",
    "        tseries(pd.Series): index is PeriodIndex with freq='M', \n",
    "            value is the return (2.3% would be 0.023)\n",
    "        ff(pd.DataFrame): the fama french 3 factor dataframe\n",
    "        ffalpha(bool): True-run ff3 regression, False-run CAMP regression\n",
    "        maxlag(int): the maximum length to calculate the \n",
    "            Newey-West standard error\n",
    "    Return:\n",
    "        [alpha value, alpha Newey-West t-stat]\n",
    "    \"\"\"\n",
    "    joined_data = pd.concat([tseries, ff], axis=1, join='inner')\n",
    "    joined_data.columns = ['RET', 'MKT_RF', 'SMB', 'HML', 'RF']\n",
    "    if minusRF:\n",
    "        joined_data['ERET'] = joined_data['RET'] - joined_data['RF']\n",
    "    else:\n",
    "        joined_data['ERET'] = joined_data['RET']\n",
    "        \n",
    "    joined_data['CONST'] = 1.0\n",
    "    if ffalpha:\n",
    "        model = sm.OLS(joined_data['ERET'].values, \n",
    "                       joined_data[['CONST', 'MKT_RF', 'SMB', 'HML']].values)\n",
    "    else:\n",
    "        model = sm.OLS(joined_data['ERET'].values, \n",
    "                       joined_data[['CONST', 'MKT_RF']].values)\n",
    "        \n",
    "    result = model.fit(cov_type='HAC',cov_kwds={'maxlags':maxlag})\n",
    "    return [result.params[0], result.tvalues[0]]"
   ]
  },
  {
   "cell_type": "markdown",
   "metadata": {},
   "source": [
    "## 3.2 Main analysis class"
   ]
  },
  {
   "cell_type": "code",
   "execution_count": 7,
   "metadata": {
    "collapsed": false
   },
   "outputs": [],
   "source": [
    "from portfolio_analysis import  review_pf_return, review_pf_signal\n",
    "import io_tool\n",
    "import dateutil\n",
    "import turnover"
   ]
  },
  {
   "cell_type": "code",
   "execution_count": 17,
   "metadata": {
    "collapsed": false
   },
   "outputs": [],
   "source": [
    "class post_data_analysis:\n",
    "    def __init__(self, pfweight_file):\n",
    "        \"\"\"Initialize the data needed\"\"\"\n",
    "        self.pfweight_file = pfweight_file\n",
    "        self.pfweight = io_tool.load_pickle_obj(setting.datapath_pf_weight, self.pfweight_file)\n",
    "        \n",
    "        self.cap_pivot=read_in_signal('MKTCAP_M')\n",
    "        self.return_pivot=read_in_signal('M_RET')\n",
    "        \n",
    "        ff_mthly = pd.read_csv('../input/famafrench_mthly.CSV')\n",
    "        ff_mthly['date'] = pd.to_datetime(ff_mthly['date'], format='%Y%m')\n",
    "        ff_mthly.set_index('date', inplace=True)\n",
    "        ff_mthly.columns = ['MKT_RF', 'SMB', 'HML', 'RF']\n",
    "        ff_mthly = ff_mthly.to_period('M')\n",
    "        self.ff_mthly = ff_mthly/100.0\n",
    "        self.prepare_data()\n",
    "    \n",
    "    def prepare_data(self):\n",
    "        pf_start = np.min(list(self.pfweight.keys()))\n",
    "        pf_end = np.max(list(self.pfweight.keys())) + dateutil.relativedelta.relativedelta(months=1)\n",
    "        \n",
    "        self.cap_series=review_pf_signal(pf_start,pf_end, self.pfweight, self.cap_pivot)\n",
    "        self.return_series=review_pf_return(pf_start, pf_end, self.pfweight, self.return_pivot)\n",
    "        \n",
    "    def update_pfweight(self, pfweight_file):\n",
    "        self.pfweight_file = pfweight_file\n",
    "        self.pfweight = io_tool.load_pickle_obj(setting.datapath_pf_weight, pfweight_file)\n",
    "        self.prepare_data()\n",
    "        \n",
    "    def get_summary1(self, start, end):\n",
    "        \n",
    "        m_cap_series = select_range(self.cap_series, start, end)\n",
    "        m_return_series = select_range(self.return_series, start, end)\n",
    "        \n",
    "        average_cap_pct = m_cap_series.mean()/np.sum(m_cap_series.mean())\n",
    "        \n",
    "        num_port = m_return_series.shape[1]\n",
    "        # summary table \n",
    "        table1 = analyze_ret(m_return_series, average_cap_pct, [m_cap_series], ['Mkt Cap Mean'])\n",
    "        # long short port mean ret\n",
    "        table2 = pd.DataFrame(mean_t_stat(m_return_series[num_port].values-m_return_series[1].values), \n",
    "                              index=['mean', 't-stat'], columns=[str(num_port)+'-1'])\n",
    "        \n",
    "        # alpha table\n",
    "        alpha_results = np.zeros((num_port+1, 4))\n",
    "        for i in range(num_port):\n",
    "            alpha_results[i,:2] = alpha_test(m_return_series[i+1], self.ff_mthly, minusRF=True, ffalpha=False)\n",
    "            alpha_results[i,2:] = alpha_test(m_return_series[i+1], self.ff_mthly, minusRF=True, ffalpha=True)\n",
    "\n",
    "        alpha_results[-1, :2] = alpha_test(m_return_series[num_port]-m_return_series[1],\n",
    "                                           self.ff_mthly, minusRF=False, ffalpha=False)\n",
    "        alpha_results[-1, 2:] = alpha_test(m_return_series[num_port]-m_return_series[1],\n",
    "                                           self.ff_mthly, minusRF=False, ffalpha=True)\n",
    "        \n",
    "        alpha_results[:, (0, 2)] = alpha_results[:, (0, 2)] * 100\n",
    "        \n",
    "        table3 = pd.DataFrame(alpha_results, index=list(np.arange(1, num_port+1))+[str(num_port)+'-1'], \n",
    "                                     columns=['CAPM alpha%', 'CAPM t-stat', 'FF3 alpha%', 'FF3 t-stat'])\n",
    "        \n",
    "        self.table = [table1, table2, table3]\n",
    "    \n",
    "    def get_summary2(self,name1, name2, start, end):\n",
    "        m_cap_series = select_range(self.cap_series, start, end)\n",
    "        m_return_series = select_range(self.return_series, start, end)\n",
    "        num_port = m_return_series.shape[1]\n",
    "        # this summary is designed for 25 portfolios\n",
    "        assert num_port == 25\n",
    "        \n",
    "        alpha_coef = np.zeros((6, 6))\n",
    "        alpha_t = np.zeros((6, 6))\n",
    "        # loop throgh the first signal group\n",
    "        for i in range(5):\n",
    "            # loop throgh the second signal group\n",
    "            for j in range(5):\n",
    "                alpha_coef[j, i], alpha_t[j, i] = alpha_test(m_return_series[5*i+j+1],\n",
    "                                                                          self.ff_mthly, minusRF=True, ffalpha=True)\n",
    "            # given the first signal, second signal 5-1\n",
    "            alpha_coef[5, i], alpha_t[5, i] = alpha_test(m_return_series[5*i+5]-m_return_series[5*i+1],\n",
    "                                                        self.ff_mthly, minusRF=False, ffalpha=True)\n",
    "        \n",
    "        # given the second signal, the first signal 5-1\n",
    "        for j in range(5):\n",
    "            alpha_coef[j, 5], alpha_t[j, 5] = alpha_test(m_return_series[20+j+1]-m_return_series[j+1],\n",
    "                                                        self.ff_mthly, minusRF=False, ffalpha=True)\n",
    "            \n",
    "            \n",
    "        column_name = [ name1+str(x+1) for x in range(5)] + [name1+'(5-1)']\n",
    "        index_name = [ name2+str(x+1) for x in range(5)] + [name2+'(5-1)']\n",
    "        \n",
    "        alpha_coef = pd.DataFrame(alpha_coef*100, index=index_name, columns=column_name)\n",
    "        alpha_coef.index.name = 'Fama French alpha%'\n",
    "        alpha_t = pd.DataFrame(alpha_t, index=index_name, columns=column_name)\n",
    "        alpha_t.index.name = 'alpha t-stat'\n",
    "        \n",
    "        self.table2 = [alpha_coef, alpha_t]\n",
    "                "
   ]
  },
  {
   "cell_type": "markdown",
   "metadata": {},
   "source": [
    "## 3.3 Helper functions for aggregating output"
   ]
  },
  {
   "cell_type": "code",
   "execution_count": 14,
   "metadata": {
    "collapsed": true
   },
   "outputs": [],
   "source": [
    "# Helper functions for aggregate output\n",
    "\n",
    "def wrapper_25_to_table(data):\n",
    "    table = np.zeros((5, 5))\n",
    "    for i in range(5):\n",
    "        for j in range(5):\n",
    "            table[j, i] = data[5*i+j]\n",
    "    return table\n",
    "    \n",
    "def get_stk_number(pfweight, start, end):\n",
    "    current = start\n",
    "    num_port = len(pfweight[current])\n",
    "    record_list = []\n",
    "    while current < end:\n",
    "        current_weight = pfweight[current]\n",
    "        temp = np.zeros(num_port)\n",
    "        for i in range(num_port):\n",
    "            temp[i] = current_weight[i].shape[0]            \n",
    "        \n",
    "        record_list.append(temp)\n",
    "        current += dateutil.relativedelta.relativedelta(months=1)\n",
    "    return np.array(record_list)"
   ]
  },
  {
   "cell_type": "markdown",
   "metadata": {},
   "source": [
    "## 3.4 Output Aggregation and Export to Excel"
   ]
  },
  {
   "cell_type": "code",
   "execution_count": 15,
   "metadata": {
    "collapsed": false
   },
   "outputs": [],
   "source": [
    "import xlsxwriter\n",
    "\n",
    "def aggregate_output(analysis_robot, name_list, m_writer, start, end, nysebreak=False):\n",
    "    # pre analysis\n",
    "    if len(name_list) == 1:\n",
    "        sheetname = name_list[0]+'_'+str(nysebreak)\n",
    "    else:\n",
    "        sheetname = name_list[0][:12]+'_'+name_list[1][:12]+'_'+str(nysebreak)\n",
    "    \n",
    "#     print('..write to'+sheetname)\n",
    "    analysis_robot.get_summary1(start, end);\n",
    "    \n",
    "    # excel writer initialize\n",
    "    workbook  = m_writer.book\n",
    "    \n",
    "    # analysis\n",
    "    stk_num_record = get_stk_number(analysis_robot.pfweight, start, end).mean(axis=0)\n",
    "    port_turnover = turnover.Turnover_rate(analysis_robot.pfweight, start, end).mean(axis=0).values\n",
    "    \n",
    "    if len(name_list) == 1:\n",
    "        group_name = [name_list[0] + str(x+1) for x in range(5)]\n",
    "        stk_num_df = pd.DataFrame(stk_num_record, index=group_name).round(2)\n",
    "        stk_num_df.index.name = 'Average Stk Number'\n",
    "        \n",
    "        port_turnover_df = pd.DataFrame(port_turnover, index=group_name).round(2)\n",
    "        port_turnover_df.index.name = 'Pct Stk Change'\n",
    "        \n",
    "        stk_num_df.to_excel(m_writer, sheet_name=sheetname)\n",
    "        port_turnover_df.to_excel(m_writer, sheet_name=sheetname, startcol= stk_num_df.shape[1]+2)\n",
    "        \n",
    "        row_record = stk_num_df.shape[0] + 2\n",
    "        analysis_robot.table[0].to_excel(m_writer, sheet_name=sheetname,\n",
    "                                         startrow=row_record)\n",
    "        (analysis_robot.table[2].round(2)).to_excel(m_writer, sheet_name=sheetname,\n",
    "                                         startrow=row_record, \n",
    "                                         startcol=analysis_robot.table[0].shape[1]+2)\n",
    "        row_record = row_record + analysis_robot.table[0].shape[0] + 2\n",
    "        analysis_robot.table[1].to_excel(m_writer, sheet_name=sheetname, startrow=row_record)\n",
    "        worksheet = m_writer.sheets[sheetname]\n",
    "    else:\n",
    "        column_name = [name_list[0]+str(x+1) for x in range(5)]\n",
    "        index_name = [name_list[1]+str(x+1) for x in range(5)]\n",
    "        \n",
    "        analysis_robot.get_summary2(name1=name_list[0], name2=name_list[1], start=start, end=end);\n",
    "        stk_num_df = pd.DataFrame(wrapper_25_to_table(stk_num_record),\n",
    "                                  index=index_name, columns=column_name).round(2)\n",
    "        stk_num_df.index.name = 'Average Stk Number'\n",
    "        \n",
    "        port_turnover_df = pd.DataFrame(wrapper_25_to_table(port_turnover),\n",
    "                                  index=index_name, columns=column_name).round(2)\n",
    "        port_turnover_df.index.name = 'Pct Stk Change'\n",
    "        \n",
    "        table_to_write = [stk_num_df]\n",
    "        \n",
    "        # wrap table one into 5x5 table\n",
    "        for i in range(analysis_robot.table[0].shape[1]):\n",
    "            temp_df = pd.DataFrame(wrapper_25_to_table(analysis_robot.table[0].iloc[:,i].values), \n",
    "                        index=index_name, columns=column_name)\n",
    "            temp_df.index.name = analysis_robot.table[0].columns[i]\n",
    "            table_to_write.append(temp_df)\n",
    "        \n",
    "        # add alpha table\n",
    "        table_to_write = table_to_write + analysis_robot.table2\n",
    "        table_to_write.append(port_turnover_df)\n",
    "        \n",
    "        row_record = 1\n",
    "        col_record = 0\n",
    "        row_record_list = [row_record]\n",
    "        for i in range(len(table_to_write)):\n",
    "            item = table_to_write[i].round(3)\n",
    "            item.to_excel(m_writer, sheet_name=sheetname, \n",
    "                                       startrow=row_record, startcol=col_record)\n",
    "            if i%2==0:\n",
    "                col_record= 8 #item.shape[1] + 4\n",
    "            else:\n",
    "                col_record = 0\n",
    "                row_record = row_record+item.shape[0]+2\n",
    "                row_record_list.append(row_record)\n",
    "        row_record_list.append(row_record+item.shape[0]+1)\n",
    "    \n",
    "        worksheet = m_writer.sheets[sheetname]\n",
    "        for i in range(1, len(row_record_list)):\n",
    "            worksheet.conditional_format('A'+str(row_record_list[i-1])+':G'+str(row_record_list[i]),\n",
    "                                                 {'type': '3_color_scale'})\n",
    "            worksheet.conditional_format('I'+str(row_record_list[i-1])+':P'+str(row_record_list[i]),\n",
    "                                                 {'type': '3_color_scale'})\n",
    "    \n",
    "    # Widen the first column to make the text clearer.\n",
    "    worksheet.set_column('A:Z', 12)\n",
    "    \n",
    "def wrapper_analysis_write(outputname, inputrange, list_execute, startdate, enddate, nyse_break_list):\n",
    "    \"\"\"\n",
    "    :outputname(str): the name of the excel to save data\n",
    "    :inputrange(str): the string of range of dates, e.g. '2010-01-2015-06'\n",
    "    :list_execute(list of list of str): the list of the signal names that we examine (at most two signals in one list)\n",
    "        e.g. [['M_VOL_lag'], ['M_VOL_lag', 'L_VOL_12M_lag']]\n",
    "    :startdate(datetime.datetime): the date we use to start backtest\n",
    "    :enddate(datetime.datetime): the date we end backtest\n",
    "    :nyse_break_list(list of bool): [True, False] or [True] to set whether we use NYSE breakpoints\n",
    "    \"\"\"\n",
    "    writer = pd.ExcelWriter('../output/'+outputname, engine='xlsxwriter')\n",
    "    workbook = writer.book\n",
    "    worksheet = workbook.add_worksheet()\n",
    "\n",
    "    date_format = workbook.add_format({'num_format': 'mm/dd/yy',\n",
    "                                          'align': 'left'})\n",
    "    worksheet.write_datetime(1, 1, startdate, date_format)\n",
    "    worksheet.write_datetime(2, 2, enddate, date_format)\n",
    "\n",
    "    for nyse_break in nyse_break_list:\n",
    "        for i in range(len(list_execute)):\n",
    "            if len(list_execute[i])==1:\n",
    "                file_name = 'pfweight_'+list_execute[i][0]+'_'+str(nyse_break)+inputrange\n",
    "            else:\n",
    "                file_name = 'pfweight_'+list_execute[i][0]+'_'+list_execute[i][1]+'_'+str(nyse_break)+inputrange\n",
    "            print('Analyze and aggregate: ',file_name)\n",
    "            analysis_robot=post_data_analysis(file_name)\n",
    "            names = [x[:-4] for x in list_execute[i]]\n",
    "            aggregate_output(analysis_robot, names, writer, startdate, enddate, nyse_break)\n",
    "\n",
    "    writer.save()"
   ]
  },
  {
   "cell_type": "markdown",
   "metadata": {},
   "source": [
    "# 4. Output Execution\n",
    "## 4.1 Vol from Monthly \n",
    "### 4.1.1 Total Vol"
   ]
  },
  {
   "cell_type": "code",
   "execution_count": null,
   "metadata": {
    "collapsed": false
   },
   "outputs": [],
   "source": [
    "list_execute = [['M_VOL_lag'], \n",
    "                ['L_VOL_12M_lag_lag'], ['L_VOL_18M_lag_lag'], ['L_VOL_24M_lag_lag'], ['L_VOL_36M_lag_lag'],\n",
    "                ['M_VOL_lag', 'L_VOL_12M_lag_lag'],\n",
    "                ['M_VOL_lag', 'L_VOL_18M_lag_lag'],\n",
    "                ['M_VOL_lag', 'L_VOL_24M_lag_lag'],\n",
    "                ['M_VOL_lag', 'L_VOL_36M_lag_lag']\n",
    "                ]\n",
    "\n",
    "startdate = datetime.datetime(1965, 2, 1)\n",
    "enddate = datetime.datetime(2016, 12, 31)\n",
    "nyse_break_list = [True, False]\n",
    "wrapper_analysis_write('analysis_mthly_tot0304.xlsx','1965-02-2016-12', list_execute, startdate, enddate, nyse_break_list)"
   ]
  },
  {
   "cell_type": "markdown",
   "metadata": {},
   "source": [
    "### 4.1.2 Idio Vol\n"
   ]
  },
  {
   "cell_type": "code",
   "execution_count": 16,
   "metadata": {
    "collapsed": false,
    "scrolled": true
   },
   "outputs": [
    {
     "name": "stdout",
     "output_type": "stream",
     "text": [
      "Analyze and aggregate:  pfweight_FF_M_VOL_lag_True1965-02-2016-12\n",
      "Analyze and aggregate:  pfweight_FF_L_VOL_12M_lag_lag_True1965-02-2016-12\n"
     ]
    },
    {
     "ename": "KeyboardInterrupt",
     "evalue": "",
     "output_type": "error",
     "traceback": [
      "\u001b[0;31m---------------------------------------------------------------------------\u001b[0m",
      "\u001b[0;31mKeyboardInterrupt\u001b[0m                         Traceback (most recent call last)",
      "\u001b[0;32m<ipython-input-16-bf968678c715>\u001b[0m in \u001b[0;36m<module>\u001b[0;34m()\u001b[0m\n\u001b[1;32m     10\u001b[0m \u001b[0menddate\u001b[0m \u001b[1;33m=\u001b[0m \u001b[0mdatetime\u001b[0m\u001b[1;33m.\u001b[0m\u001b[0mdatetime\u001b[0m\u001b[1;33m(\u001b[0m\u001b[1;36m2016\u001b[0m\u001b[1;33m,\u001b[0m \u001b[1;36m12\u001b[0m\u001b[1;33m,\u001b[0m \u001b[1;36m31\u001b[0m\u001b[1;33m)\u001b[0m\u001b[1;33m\u001b[0m\u001b[0m\n\u001b[1;32m     11\u001b[0m \u001b[0mnyse_break_list\u001b[0m \u001b[1;33m=\u001b[0m \u001b[1;33m[\u001b[0m\u001b[1;32mTrue\u001b[0m\u001b[1;33m,\u001b[0m \u001b[1;32mFalse\u001b[0m\u001b[1;33m]\u001b[0m\u001b[1;33m\u001b[0m\u001b[0m\n\u001b[0;32m---> 12\u001b[0;31m \u001b[0mwrapper_analysis_write\u001b[0m\u001b[1;33m(\u001b[0m\u001b[1;34m'analysis_mthly_idio0303.xlsx'\u001b[0m\u001b[1;33m,\u001b[0m\u001b[1;34m'1965-02-2016-12'\u001b[0m\u001b[1;33m,\u001b[0m \u001b[0mlist_execute\u001b[0m\u001b[1;33m,\u001b[0m \u001b[0mstartdate\u001b[0m\u001b[1;33m,\u001b[0m \u001b[0menddate\u001b[0m\u001b[1;33m,\u001b[0m \u001b[0mnyse_break_list\u001b[0m\u001b[1;33m)\u001b[0m\u001b[1;33m\u001b[0m\u001b[0m\n\u001b[0m",
      "\u001b[0;32m<ipython-input-15-2156bbbd2320>\u001b[0m in \u001b[0;36mwrapper_analysis_write\u001b[0;34m(outputname, inputrange, list_execute, startdate, enddate, nyse_break_list)\u001b[0m\n\u001b[1;32m    115\u001b[0m                 \u001b[0mfile_name\u001b[0m \u001b[1;33m=\u001b[0m \u001b[1;34m'pfweight_'\u001b[0m\u001b[1;33m+\u001b[0m\u001b[0mlist_execute\u001b[0m\u001b[1;33m[\u001b[0m\u001b[0mi\u001b[0m\u001b[1;33m]\u001b[0m\u001b[1;33m[\u001b[0m\u001b[1;36m0\u001b[0m\u001b[1;33m]\u001b[0m\u001b[1;33m+\u001b[0m\u001b[1;34m'_'\u001b[0m\u001b[1;33m+\u001b[0m\u001b[0mlist_execute\u001b[0m\u001b[1;33m[\u001b[0m\u001b[0mi\u001b[0m\u001b[1;33m]\u001b[0m\u001b[1;33m[\u001b[0m\u001b[1;36m1\u001b[0m\u001b[1;33m]\u001b[0m\u001b[1;33m+\u001b[0m\u001b[1;34m'_'\u001b[0m\u001b[1;33m+\u001b[0m\u001b[0mstr\u001b[0m\u001b[1;33m(\u001b[0m\u001b[0mnyse_break\u001b[0m\u001b[1;33m)\u001b[0m\u001b[1;33m+\u001b[0m\u001b[0minputrange\u001b[0m\u001b[1;33m\u001b[0m\u001b[0m\n\u001b[1;32m    116\u001b[0m             \u001b[0mprint\u001b[0m\u001b[1;33m(\u001b[0m\u001b[1;34m'Analyze and aggregate: '\u001b[0m\u001b[1;33m,\u001b[0m\u001b[0mfile_name\u001b[0m\u001b[1;33m)\u001b[0m\u001b[1;33m\u001b[0m\u001b[0m\n\u001b[0;32m--> 117\u001b[0;31m             \u001b[0manalysis_robot\u001b[0m\u001b[1;33m=\u001b[0m\u001b[0mpost_data_analysis\u001b[0m\u001b[1;33m(\u001b[0m\u001b[0mfile_name\u001b[0m\u001b[1;33m)\u001b[0m\u001b[1;33m\u001b[0m\u001b[0m\n\u001b[0m\u001b[1;32m    118\u001b[0m             \u001b[0mnames\u001b[0m \u001b[1;33m=\u001b[0m \u001b[1;33m[\u001b[0m\u001b[0mx\u001b[0m\u001b[1;33m[\u001b[0m\u001b[1;33m:\u001b[0m\u001b[1;33m-\u001b[0m\u001b[1;36m4\u001b[0m\u001b[1;33m]\u001b[0m \u001b[1;32mfor\u001b[0m \u001b[0mx\u001b[0m \u001b[1;32min\u001b[0m \u001b[0mlist_execute\u001b[0m\u001b[1;33m[\u001b[0m\u001b[0mi\u001b[0m\u001b[1;33m]\u001b[0m\u001b[1;33m]\u001b[0m\u001b[1;33m\u001b[0m\u001b[0m\n\u001b[1;32m    119\u001b[0m             \u001b[0maggregate_output\u001b[0m\u001b[1;33m(\u001b[0m\u001b[0manalysis_robot\u001b[0m\u001b[1;33m,\u001b[0m \u001b[0mnames\u001b[0m\u001b[1;33m,\u001b[0m \u001b[0mwriter\u001b[0m\u001b[1;33m,\u001b[0m \u001b[0mstartdate\u001b[0m\u001b[1;33m,\u001b[0m \u001b[0menddate\u001b[0m\u001b[1;33m,\u001b[0m \u001b[0mnyse_break\u001b[0m\u001b[1;33m)\u001b[0m\u001b[1;33m\u001b[0m\u001b[0m\n",
      "\u001b[0;32m<ipython-input-13-69556f48f29b>\u001b[0m in \u001b[0;36m__init__\u001b[0;34m(self, pfweight_file)\u001b[0m\n\u001b[1;32m     14\u001b[0m         \u001b[0mff_mthly\u001b[0m \u001b[1;33m=\u001b[0m \u001b[0mff_mthly\u001b[0m\u001b[1;33m.\u001b[0m\u001b[0mto_period\u001b[0m\u001b[1;33m(\u001b[0m\u001b[1;34m'M'\u001b[0m\u001b[1;33m)\u001b[0m\u001b[1;33m\u001b[0m\u001b[0m\n\u001b[1;32m     15\u001b[0m         \u001b[0mself\u001b[0m\u001b[1;33m.\u001b[0m\u001b[0mff_mthly\u001b[0m \u001b[1;33m=\u001b[0m \u001b[0mff_mthly\u001b[0m\u001b[1;33m/\u001b[0m\u001b[1;36m100.0\u001b[0m\u001b[1;33m\u001b[0m\u001b[0m\n\u001b[0;32m---> 16\u001b[0;31m         \u001b[0mself\u001b[0m\u001b[1;33m.\u001b[0m\u001b[0mprepare_data\u001b[0m\u001b[1;33m(\u001b[0m\u001b[1;33m)\u001b[0m\u001b[1;33m\u001b[0m\u001b[0m\n\u001b[0m\u001b[1;32m     17\u001b[0m \u001b[1;33m\u001b[0m\u001b[0m\n\u001b[1;32m     18\u001b[0m     \u001b[1;32mdef\u001b[0m \u001b[0mprepare_data\u001b[0m\u001b[1;33m(\u001b[0m\u001b[0mself\u001b[0m\u001b[1;33m)\u001b[0m\u001b[1;33m:\u001b[0m\u001b[1;33m\u001b[0m\u001b[0m\n",
      "\u001b[0;32m<ipython-input-13-69556f48f29b>\u001b[0m in \u001b[0;36mprepare_data\u001b[0;34m(self)\u001b[0m\n\u001b[1;32m     20\u001b[0m         \u001b[0mpf_end\u001b[0m \u001b[1;33m=\u001b[0m \u001b[0mnp\u001b[0m\u001b[1;33m.\u001b[0m\u001b[0mmax\u001b[0m\u001b[1;33m(\u001b[0m\u001b[0mlist\u001b[0m\u001b[1;33m(\u001b[0m\u001b[0mself\u001b[0m\u001b[1;33m.\u001b[0m\u001b[0mpfweight\u001b[0m\u001b[1;33m.\u001b[0m\u001b[0mkeys\u001b[0m\u001b[1;33m(\u001b[0m\u001b[1;33m)\u001b[0m\u001b[1;33m)\u001b[0m\u001b[1;33m)\u001b[0m \u001b[1;33m+\u001b[0m \u001b[0mdateutil\u001b[0m\u001b[1;33m.\u001b[0m\u001b[0mrelativedelta\u001b[0m\u001b[1;33m.\u001b[0m\u001b[0mrelativedelta\u001b[0m\u001b[1;33m(\u001b[0m\u001b[0mmonths\u001b[0m\u001b[1;33m=\u001b[0m\u001b[1;36m1\u001b[0m\u001b[1;33m)\u001b[0m\u001b[1;33m\u001b[0m\u001b[0m\n\u001b[1;32m     21\u001b[0m \u001b[1;33m\u001b[0m\u001b[0m\n\u001b[0;32m---> 22\u001b[0;31m         \u001b[0mself\u001b[0m\u001b[1;33m.\u001b[0m\u001b[0mcap_series\u001b[0m\u001b[1;33m=\u001b[0m\u001b[0mreview_pf_signal\u001b[0m\u001b[1;33m(\u001b[0m\u001b[0mpf_start\u001b[0m\u001b[1;33m,\u001b[0m\u001b[0mpf_end\u001b[0m\u001b[1;33m,\u001b[0m \u001b[0mself\u001b[0m\u001b[1;33m.\u001b[0m\u001b[0mpfweight\u001b[0m\u001b[1;33m,\u001b[0m \u001b[0mself\u001b[0m\u001b[1;33m.\u001b[0m\u001b[0mcap_pivot\u001b[0m\u001b[1;33m)\u001b[0m\u001b[1;33m\u001b[0m\u001b[0m\n\u001b[0m\u001b[1;32m     23\u001b[0m         \u001b[0mself\u001b[0m\u001b[1;33m.\u001b[0m\u001b[0mreturn_series\u001b[0m\u001b[1;33m=\u001b[0m\u001b[0mreview_pf_return\u001b[0m\u001b[1;33m(\u001b[0m\u001b[0mpf_start\u001b[0m\u001b[1;33m,\u001b[0m \u001b[0mpf_end\u001b[0m\u001b[1;33m,\u001b[0m \u001b[0mself\u001b[0m\u001b[1;33m.\u001b[0m\u001b[0mpfweight\u001b[0m\u001b[1;33m,\u001b[0m \u001b[0mself\u001b[0m\u001b[1;33m.\u001b[0m\u001b[0mreturn_pivot\u001b[0m\u001b[1;33m)\u001b[0m\u001b[1;33m\u001b[0m\u001b[0m\n\u001b[1;32m     24\u001b[0m \u001b[1;33m\u001b[0m\u001b[0m\n",
      "\u001b[0;32mC:\\project\\code\\portfolio_analysis.py\u001b[0m in \u001b[0;36mreview_pf_signal\u001b[0;34m(begindate, enddate, pf_weight, signal_pivot)\u001b[0m\n\u001b[1;32m     87\u001b[0m \u001b[1;33m\u001b[0m\u001b[0m\n\u001b[1;32m     88\u001b[0m             \u001b[0mstock_list\u001b[0m\u001b[1;33m=\u001b[0m\u001b[0mlist\u001b[0m\u001b[1;33m(\u001b[0m\u001b[0mweight\u001b[0m\u001b[1;33m.\u001b[0m\u001b[0mindex\u001b[0m\u001b[1;33m.\u001b[0m\u001b[0mvalues\u001b[0m\u001b[1;33m)\u001b[0m\u001b[1;33m\u001b[0m\u001b[0m\n\u001b[0;32m---> 89\u001b[0;31m             \u001b[0msignal_df\u001b[0m\u001b[1;33m=\u001b[0m\u001b[0msignal_df\u001b[0m\u001b[1;33m.\u001b[0m\u001b[0mix\u001b[0m\u001b[1;33m[\u001b[0m\u001b[0msignal_df\u001b[0m\u001b[1;33m.\u001b[0m\u001b[0mindex\u001b[0m\u001b[1;33m.\u001b[0m\u001b[0misin\u001b[0m\u001b[1;33m(\u001b[0m\u001b[0mstock_list\u001b[0m\u001b[1;33m)\u001b[0m\u001b[1;33m]\u001b[0m\u001b[1;33m\u001b[0m\u001b[0m\n\u001b[0m\u001b[1;32m     90\u001b[0m \u001b[1;33m\u001b[0m\u001b[0m\n\u001b[1;32m     91\u001b[0m             \u001b[0mportfolio\u001b[0m\u001b[1;33m=\u001b[0m\u001b[0mpd\u001b[0m\u001b[1;33m.\u001b[0m\u001b[0mconcat\u001b[0m\u001b[1;33m(\u001b[0m\u001b[1;33m[\u001b[0m\u001b[0msignal_df\u001b[0m\u001b[1;33m,\u001b[0m \u001b[0mweight\u001b[0m\u001b[1;33m]\u001b[0m\u001b[1;33m,\u001b[0m\u001b[0maxis\u001b[0m\u001b[1;33m=\u001b[0m\u001b[1;36m1\u001b[0m\u001b[1;33m)\u001b[0m\u001b[1;33m.\u001b[0m\u001b[0mdropna\u001b[0m\u001b[1;33m(\u001b[0m\u001b[1;33m)\u001b[0m\u001b[1;33m\u001b[0m\u001b[0m\n",
      "\u001b[0;32mC:\\Program Files\\Anaconda3\\lib\\site-packages\\pandas\\core\\indexing.py\u001b[0m in \u001b[0;36m__getitem__\u001b[0;34m(self, key)\u001b[0m\n\u001b[1;32m     76\u001b[0m         \u001b[1;32melse\u001b[0m\u001b[1;33m:\u001b[0m\u001b[1;33m\u001b[0m\u001b[0m\n\u001b[1;32m     77\u001b[0m             \u001b[0mkey\u001b[0m \u001b[1;33m=\u001b[0m \u001b[0mcom\u001b[0m\u001b[1;33m.\u001b[0m\u001b[0m_apply_if_callable\u001b[0m\u001b[1;33m(\u001b[0m\u001b[0mkey\u001b[0m\u001b[1;33m,\u001b[0m \u001b[0mself\u001b[0m\u001b[1;33m.\u001b[0m\u001b[0mobj\u001b[0m\u001b[1;33m)\u001b[0m\u001b[1;33m\u001b[0m\u001b[0m\n\u001b[0;32m---> 78\u001b[0;31m             \u001b[1;32mreturn\u001b[0m \u001b[0mself\u001b[0m\u001b[1;33m.\u001b[0m\u001b[0m_getitem_axis\u001b[0m\u001b[1;33m(\u001b[0m\u001b[0mkey\u001b[0m\u001b[1;33m,\u001b[0m \u001b[0maxis\u001b[0m\u001b[1;33m=\u001b[0m\u001b[1;36m0\u001b[0m\u001b[1;33m)\u001b[0m\u001b[1;33m\u001b[0m\u001b[0m\n\u001b[0m\u001b[1;32m     79\u001b[0m \u001b[1;33m\u001b[0m\u001b[0m\n\u001b[1;32m     80\u001b[0m     \u001b[1;32mdef\u001b[0m \u001b[0m_get_label\u001b[0m\u001b[1;33m(\u001b[0m\u001b[0mself\u001b[0m\u001b[1;33m,\u001b[0m \u001b[0mlabel\u001b[0m\u001b[1;33m,\u001b[0m \u001b[0maxis\u001b[0m\u001b[1;33m=\u001b[0m\u001b[1;36m0\u001b[0m\u001b[1;33m)\u001b[0m\u001b[1;33m:\u001b[0m\u001b[1;33m\u001b[0m\u001b[0m\n",
      "\u001b[0;32mC:\\Program Files\\Anaconda3\\lib\\site-packages\\pandas\\core\\indexing.py\u001b[0m in \u001b[0;36m_getitem_axis\u001b[0;34m(self, key, axis)\u001b[0m\n\u001b[1;32m    998\u001b[0m                 \u001b[1;32mraise\u001b[0m \u001b[0mValueError\u001b[0m\u001b[1;33m(\u001b[0m\u001b[1;34m'Cannot index with multidimensional key'\u001b[0m\u001b[1;33m)\u001b[0m\u001b[1;33m\u001b[0m\u001b[0m\n\u001b[1;32m    999\u001b[0m \u001b[1;33m\u001b[0m\u001b[0m\n\u001b[0;32m-> 1000\u001b[0;31m             \u001b[1;32mreturn\u001b[0m \u001b[0mself\u001b[0m\u001b[1;33m.\u001b[0m\u001b[0m_getitem_iterable\u001b[0m\u001b[1;33m(\u001b[0m\u001b[0mkey\u001b[0m\u001b[1;33m,\u001b[0m \u001b[0maxis\u001b[0m\u001b[1;33m=\u001b[0m\u001b[0maxis\u001b[0m\u001b[1;33m)\u001b[0m\u001b[1;33m\u001b[0m\u001b[0m\n\u001b[0m\u001b[1;32m   1001\u001b[0m         \u001b[1;32melse\u001b[0m\u001b[1;33m:\u001b[0m\u001b[1;33m\u001b[0m\u001b[0m\n\u001b[1;32m   1002\u001b[0m \u001b[1;33m\u001b[0m\u001b[0m\n",
      "\u001b[0;32mC:\\Program Files\\Anaconda3\\lib\\site-packages\\pandas\\core\\indexing.py\u001b[0m in \u001b[0;36m_getitem_iterable\u001b[0;34m(self, key, axis)\u001b[0m\n\u001b[1;32m   1026\u001b[0m         \u001b[1;32mif\u001b[0m \u001b[0mis_bool_indexer\u001b[0m\u001b[1;33m(\u001b[0m\u001b[0mkey\u001b[0m\u001b[1;33m)\u001b[0m\u001b[1;33m:\u001b[0m\u001b[1;33m\u001b[0m\u001b[0m\n\u001b[1;32m   1027\u001b[0m             \u001b[0mkey\u001b[0m \u001b[1;33m=\u001b[0m \u001b[0mcheck_bool_indexer\u001b[0m\u001b[1;33m(\u001b[0m\u001b[0mlabels\u001b[0m\u001b[1;33m,\u001b[0m \u001b[0mkey\u001b[0m\u001b[1;33m)\u001b[0m\u001b[1;33m\u001b[0m\u001b[0m\n\u001b[0;32m-> 1028\u001b[0;31m             \u001b[0minds\u001b[0m\u001b[1;33m,\u001b[0m \u001b[1;33m=\u001b[0m \u001b[0mkey\u001b[0m\u001b[1;33m.\u001b[0m\u001b[0mnonzero\u001b[0m\u001b[1;33m(\u001b[0m\u001b[1;33m)\u001b[0m\u001b[1;33m\u001b[0m\u001b[0m\n\u001b[0m\u001b[1;32m   1029\u001b[0m             \u001b[1;32mreturn\u001b[0m \u001b[0mself\u001b[0m\u001b[1;33m.\u001b[0m\u001b[0mobj\u001b[0m\u001b[1;33m.\u001b[0m\u001b[0mtake\u001b[0m\u001b[1;33m(\u001b[0m\u001b[0minds\u001b[0m\u001b[1;33m,\u001b[0m \u001b[0maxis\u001b[0m\u001b[1;33m=\u001b[0m\u001b[0maxis\u001b[0m\u001b[1;33m,\u001b[0m \u001b[0mconvert\u001b[0m\u001b[1;33m=\u001b[0m\u001b[1;32mFalse\u001b[0m\u001b[1;33m)\u001b[0m\u001b[1;33m\u001b[0m\u001b[0m\n\u001b[1;32m   1030\u001b[0m         \u001b[1;32melse\u001b[0m\u001b[1;33m:\u001b[0m\u001b[1;33m\u001b[0m\u001b[0m\n",
      "\u001b[0;31mKeyboardInterrupt\u001b[0m: "
     ]
    }
   ],
   "source": [
    "list_execute = [['FF_M_VOL_lag'], \n",
    "                ['FF_L_VOL_12M_lag_lag'], ['FF_L_VOL_18M_lag_lag'], ['FF_L_VOL_24M_lag_lag'], ['FF_L_VOL_36M_lag_lag'],\n",
    "                ['FF_M_VOL_lag', 'FF_L_VOL_12M_lag_lag'],\n",
    "                ['FF_M_VOL_lag', 'FF_L_VOL_18M_lag_lag'],\n",
    "                ['FF_M_VOL_lag', 'FF_L_VOL_24M_lag_lag'],\n",
    "                ['FF_M_VOL_lag', 'FF_L_VOL_36M_lag_lag']\n",
    "                ]\n",
    "\n",
    "startdate = datetime.datetime(1965, 2, 1)\n",
    "enddate = datetime.datetime(2016, 12, 31)\n",
    "nyse_break_list = [True, False]\n",
    "wrapper_analysis_write('analysis_mthly_idio0303.xlsx','1965-02-2016-12', list_execute, startdate, enddate, nyse_break_list)"
   ]
  },
  {
   "cell_type": "markdown",
   "metadata": {
    "collapsed": true
   },
   "source": [
    "## 4.2 Vol from Weekly \n",
    "### 4.2.1 Total Vol"
   ]
  },
  {
   "cell_type": "code",
   "execution_count": 6,
   "metadata": {
    "collapsed": false
   },
   "outputs": [
    {
     "name": "stdout",
     "output_type": "stream",
     "text": [
      "Analyze and aggregate:  pfweight_M_VOL_lag_True1963-07-2016-12\n"
     ]
    },
    {
     "ename": "NameError",
     "evalue": "name 'post_data_analysis' is not defined",
     "output_type": "error",
     "traceback": [
      "\u001b[0;31m---------------------------------------------------------------------------\u001b[0m",
      "\u001b[0;31mNameError\u001b[0m                                 Traceback (most recent call last)",
      "\u001b[0;32m<ipython-input-6-d38cc4e63c74>\u001b[0m in \u001b[0;36m<module>\u001b[0;34m()\u001b[0m\n\u001b[1;32m      9\u001b[0m \u001b[0mnyse_break_list\u001b[0m \u001b[1;33m=\u001b[0m \u001b[1;33m[\u001b[0m\u001b[1;32mTrue\u001b[0m\u001b[1;33m,\u001b[0m \u001b[1;32mFalse\u001b[0m\u001b[1;33m]\u001b[0m\u001b[1;33m\u001b[0m\u001b[0m\n\u001b[1;32m     10\u001b[0m \u001b[1;31m# We input data from 1963-07 to 2016-12, but calculate the results using 1965-02 to 2016-12\u001b[0m\u001b[1;33m\u001b[0m\u001b[1;33m\u001b[0m\u001b[0m\n\u001b[0;32m---> 11\u001b[0;31m \u001b[0mwrapper_analysis_write\u001b[0m\u001b[1;33m(\u001b[0m\u001b[1;34m'analysis_weekly_tot0303.xlsx'\u001b[0m\u001b[1;33m,\u001b[0m\u001b[1;34m'1963-07-2016-12'\u001b[0m\u001b[1;33m,\u001b[0m \u001b[0mlist_execute\u001b[0m\u001b[1;33m,\u001b[0m \u001b[0mstartdate\u001b[0m\u001b[1;33m,\u001b[0m \u001b[0menddate\u001b[0m\u001b[1;33m,\u001b[0m \u001b[0mnyse_break_list\u001b[0m\u001b[1;33m)\u001b[0m\u001b[1;33m\u001b[0m\u001b[0m\n\u001b[0m",
      "\u001b[0;32m<ipython-input-5-2156bbbd2320>\u001b[0m in \u001b[0;36mwrapper_analysis_write\u001b[0;34m(outputname, inputrange, list_execute, startdate, enddate, nyse_break_list)\u001b[0m\n\u001b[1;32m    115\u001b[0m                 \u001b[0mfile_name\u001b[0m \u001b[1;33m=\u001b[0m \u001b[1;34m'pfweight_'\u001b[0m\u001b[1;33m+\u001b[0m\u001b[0mlist_execute\u001b[0m\u001b[1;33m[\u001b[0m\u001b[0mi\u001b[0m\u001b[1;33m]\u001b[0m\u001b[1;33m[\u001b[0m\u001b[1;36m0\u001b[0m\u001b[1;33m]\u001b[0m\u001b[1;33m+\u001b[0m\u001b[1;34m'_'\u001b[0m\u001b[1;33m+\u001b[0m\u001b[0mlist_execute\u001b[0m\u001b[1;33m[\u001b[0m\u001b[0mi\u001b[0m\u001b[1;33m]\u001b[0m\u001b[1;33m[\u001b[0m\u001b[1;36m1\u001b[0m\u001b[1;33m]\u001b[0m\u001b[1;33m+\u001b[0m\u001b[1;34m'_'\u001b[0m\u001b[1;33m+\u001b[0m\u001b[0mstr\u001b[0m\u001b[1;33m(\u001b[0m\u001b[0mnyse_break\u001b[0m\u001b[1;33m)\u001b[0m\u001b[1;33m+\u001b[0m\u001b[0minputrange\u001b[0m\u001b[1;33m\u001b[0m\u001b[0m\n\u001b[1;32m    116\u001b[0m             \u001b[0mprint\u001b[0m\u001b[1;33m(\u001b[0m\u001b[1;34m'Analyze and aggregate: '\u001b[0m\u001b[1;33m,\u001b[0m\u001b[0mfile_name\u001b[0m\u001b[1;33m)\u001b[0m\u001b[1;33m\u001b[0m\u001b[0m\n\u001b[0;32m--> 117\u001b[0;31m             \u001b[0manalysis_robot\u001b[0m\u001b[1;33m=\u001b[0m\u001b[0mpost_data_analysis\u001b[0m\u001b[1;33m(\u001b[0m\u001b[0mfile_name\u001b[0m\u001b[1;33m)\u001b[0m\u001b[1;33m\u001b[0m\u001b[0m\n\u001b[0m\u001b[1;32m    118\u001b[0m             \u001b[0mnames\u001b[0m \u001b[1;33m=\u001b[0m \u001b[1;33m[\u001b[0m\u001b[0mx\u001b[0m\u001b[1;33m[\u001b[0m\u001b[1;33m:\u001b[0m\u001b[1;33m-\u001b[0m\u001b[1;36m4\u001b[0m\u001b[1;33m]\u001b[0m \u001b[1;32mfor\u001b[0m \u001b[0mx\u001b[0m \u001b[1;32min\u001b[0m \u001b[0mlist_execute\u001b[0m\u001b[1;33m[\u001b[0m\u001b[0mi\u001b[0m\u001b[1;33m]\u001b[0m\u001b[1;33m]\u001b[0m\u001b[1;33m\u001b[0m\u001b[0m\n\u001b[1;32m    119\u001b[0m             \u001b[0maggregate_output\u001b[0m\u001b[1;33m(\u001b[0m\u001b[0manalysis_robot\u001b[0m\u001b[1;33m,\u001b[0m \u001b[0mnames\u001b[0m\u001b[1;33m,\u001b[0m \u001b[0mwriter\u001b[0m\u001b[1;33m,\u001b[0m \u001b[0mstartdate\u001b[0m\u001b[1;33m,\u001b[0m \u001b[0menddate\u001b[0m\u001b[1;33m,\u001b[0m \u001b[0mnyse_break\u001b[0m\u001b[1;33m)\u001b[0m\u001b[1;33m\u001b[0m\u001b[0m\n",
      "\u001b[0;31mNameError\u001b[0m: name 'post_data_analysis' is not defined"
     ]
    }
   ],
   "source": [
    "list_execute = [['M_VOL_lag'], \n",
    "                ['L_VOL_24W_lag_lag'], ['L_VOL_48W_lag_lag'], ['L_VOL_72W_lag_lag'], \n",
    "                ['M_VOL_lag', 'L_VOL_24W_lag_lag'],\n",
    "                ['M_VOL_lag', 'L_VOL_48W_lag_lag'],\n",
    "                ['M_VOL_lag', 'L_VOL_72W_lag_lag']]\n",
    "\n",
    "startdate = datetime.datetime(1965, 2, 1)\n",
    "enddate = datetime.datetime(2016, 12, 31)\n",
    "nyse_break_list = [True, False]\n",
    "# We input data from 1963-07 to 2016-12, but calculate the results using 1965-02 to 2016-12\n",
    "wrapper_analysis_write('analysis_weekly_tot0303.xlsx','1963-07-2016-12', list_execute, startdate, enddate, nyse_break_list)"
   ]
  },
  {
   "cell_type": "markdown",
   "metadata": {},
   "source": [
    "### 4.2.2 Idio Vol"
   ]
  },
  {
   "cell_type": "code",
   "execution_count": 11,
   "metadata": {
    "collapsed": false
   },
   "outputs": [
    {
     "name": "stdout",
     "output_type": "stream",
     "text": [
      "Analyze and aggregate:  pfweight_FF_M_VOL_lag_True1963-07-2016-12\n"
     ]
    },
    {
     "ename": "NameError",
     "evalue": "name 'read_in_signal' is not defined",
     "output_type": "error",
     "traceback": [
      "\u001b[0;31m---------------------------------------------------------------------------\u001b[0m",
      "\u001b[0;31mNameError\u001b[0m                                 Traceback (most recent call last)",
      "\u001b[0;32m<ipython-input-11-93084b23992e>\u001b[0m in \u001b[0;36m<module>\u001b[0;34m()\u001b[0m\n\u001b[1;32m     11\u001b[0m \u001b[0menddate\u001b[0m \u001b[1;33m=\u001b[0m \u001b[0mdatetime\u001b[0m\u001b[1;33m.\u001b[0m\u001b[0mdatetime\u001b[0m\u001b[1;33m(\u001b[0m\u001b[1;36m2016\u001b[0m\u001b[1;33m,\u001b[0m \u001b[1;36m12\u001b[0m\u001b[1;33m,\u001b[0m \u001b[1;36m31\u001b[0m\u001b[1;33m)\u001b[0m\u001b[1;33m\u001b[0m\u001b[0m\n\u001b[1;32m     12\u001b[0m \u001b[0mnyse_break_list\u001b[0m \u001b[1;33m=\u001b[0m \u001b[1;33m[\u001b[0m\u001b[1;32mTrue\u001b[0m\u001b[1;33m,\u001b[0m \u001b[1;32mFalse\u001b[0m\u001b[1;33m]\u001b[0m\u001b[1;33m\u001b[0m\u001b[0m\n\u001b[0;32m---> 13\u001b[0;31m \u001b[0mwrapper_analysis_write\u001b[0m\u001b[1;33m(\u001b[0m\u001b[1;34m'analysis_weekly_idio0303.xlsx'\u001b[0m\u001b[1;33m,\u001b[0m\u001b[1;34m'1963-07-2016-12'\u001b[0m\u001b[1;33m,\u001b[0m \u001b[0mlist_execute\u001b[0m\u001b[1;33m,\u001b[0m \u001b[0mstartdate\u001b[0m\u001b[1;33m,\u001b[0m \u001b[0menddate\u001b[0m\u001b[1;33m,\u001b[0m \u001b[0mnyse_break_list\u001b[0m\u001b[1;33m)\u001b[0m\u001b[1;33m\u001b[0m\u001b[0m\n\u001b[0m",
      "\u001b[0;32m<ipython-input-10-2156bbbd2320>\u001b[0m in \u001b[0;36mwrapper_analysis_write\u001b[0;34m(outputname, inputrange, list_execute, startdate, enddate, nyse_break_list)\u001b[0m\n\u001b[1;32m    115\u001b[0m                 \u001b[0mfile_name\u001b[0m \u001b[1;33m=\u001b[0m \u001b[1;34m'pfweight_'\u001b[0m\u001b[1;33m+\u001b[0m\u001b[0mlist_execute\u001b[0m\u001b[1;33m[\u001b[0m\u001b[0mi\u001b[0m\u001b[1;33m]\u001b[0m\u001b[1;33m[\u001b[0m\u001b[1;36m0\u001b[0m\u001b[1;33m]\u001b[0m\u001b[1;33m+\u001b[0m\u001b[1;34m'_'\u001b[0m\u001b[1;33m+\u001b[0m\u001b[0mlist_execute\u001b[0m\u001b[1;33m[\u001b[0m\u001b[0mi\u001b[0m\u001b[1;33m]\u001b[0m\u001b[1;33m[\u001b[0m\u001b[1;36m1\u001b[0m\u001b[1;33m]\u001b[0m\u001b[1;33m+\u001b[0m\u001b[1;34m'_'\u001b[0m\u001b[1;33m+\u001b[0m\u001b[0mstr\u001b[0m\u001b[1;33m(\u001b[0m\u001b[0mnyse_break\u001b[0m\u001b[1;33m)\u001b[0m\u001b[1;33m+\u001b[0m\u001b[0minputrange\u001b[0m\u001b[1;33m\u001b[0m\u001b[0m\n\u001b[1;32m    116\u001b[0m             \u001b[0mprint\u001b[0m\u001b[1;33m(\u001b[0m\u001b[1;34m'Analyze and aggregate: '\u001b[0m\u001b[1;33m,\u001b[0m\u001b[0mfile_name\u001b[0m\u001b[1;33m)\u001b[0m\u001b[1;33m\u001b[0m\u001b[0m\n\u001b[0;32m--> 117\u001b[0;31m             \u001b[0manalysis_robot\u001b[0m\u001b[1;33m=\u001b[0m\u001b[0mpost_data_analysis\u001b[0m\u001b[1;33m(\u001b[0m\u001b[0mfile_name\u001b[0m\u001b[1;33m)\u001b[0m\u001b[1;33m\u001b[0m\u001b[0m\n\u001b[0m\u001b[1;32m    118\u001b[0m             \u001b[0mnames\u001b[0m \u001b[1;33m=\u001b[0m \u001b[1;33m[\u001b[0m\u001b[0mx\u001b[0m\u001b[1;33m[\u001b[0m\u001b[1;33m:\u001b[0m\u001b[1;33m-\u001b[0m\u001b[1;36m4\u001b[0m\u001b[1;33m]\u001b[0m \u001b[1;32mfor\u001b[0m \u001b[0mx\u001b[0m \u001b[1;32min\u001b[0m \u001b[0mlist_execute\u001b[0m\u001b[1;33m[\u001b[0m\u001b[0mi\u001b[0m\u001b[1;33m]\u001b[0m\u001b[1;33m]\u001b[0m\u001b[1;33m\u001b[0m\u001b[0m\n\u001b[1;32m    119\u001b[0m             \u001b[0maggregate_output\u001b[0m\u001b[1;33m(\u001b[0m\u001b[0manalysis_robot\u001b[0m\u001b[1;33m,\u001b[0m \u001b[0mnames\u001b[0m\u001b[1;33m,\u001b[0m \u001b[0mwriter\u001b[0m\u001b[1;33m,\u001b[0m \u001b[0mstartdate\u001b[0m\u001b[1;33m,\u001b[0m \u001b[0menddate\u001b[0m\u001b[1;33m,\u001b[0m \u001b[0mnyse_break\u001b[0m\u001b[1;33m)\u001b[0m\u001b[1;33m\u001b[0m\u001b[0m\n",
      "\u001b[0;32m<ipython-input-8-69556f48f29b>\u001b[0m in \u001b[0;36m__init__\u001b[0;34m(self, pfweight_file)\u001b[0m\n\u001b[1;32m      5\u001b[0m         \u001b[0mself\u001b[0m\u001b[1;33m.\u001b[0m\u001b[0mpfweight\u001b[0m \u001b[1;33m=\u001b[0m \u001b[0mio_tool\u001b[0m\u001b[1;33m.\u001b[0m\u001b[0mload_pickle_obj\u001b[0m\u001b[1;33m(\u001b[0m\u001b[0msetting\u001b[0m\u001b[1;33m.\u001b[0m\u001b[0mdatapath_pf_weight\u001b[0m\u001b[1;33m,\u001b[0m \u001b[0mself\u001b[0m\u001b[1;33m.\u001b[0m\u001b[0mpfweight_file\u001b[0m\u001b[1;33m)\u001b[0m\u001b[1;33m\u001b[0m\u001b[0m\n\u001b[1;32m      6\u001b[0m \u001b[1;33m\u001b[0m\u001b[0m\n\u001b[0;32m----> 7\u001b[0;31m         \u001b[0mself\u001b[0m\u001b[1;33m.\u001b[0m\u001b[0mcap_pivot\u001b[0m\u001b[1;33m=\u001b[0m\u001b[0mread_in_signal\u001b[0m\u001b[1;33m(\u001b[0m\u001b[1;34m'MKTCAP_M'\u001b[0m\u001b[1;33m)\u001b[0m\u001b[1;33m\u001b[0m\u001b[0m\n\u001b[0m\u001b[1;32m      8\u001b[0m         \u001b[0mself\u001b[0m\u001b[1;33m.\u001b[0m\u001b[0mreturn_pivot\u001b[0m\u001b[1;33m=\u001b[0m\u001b[0mread_in_signal\u001b[0m\u001b[1;33m(\u001b[0m\u001b[1;34m'M_RET'\u001b[0m\u001b[1;33m)\u001b[0m\u001b[1;33m\u001b[0m\u001b[0m\n\u001b[1;32m      9\u001b[0m \u001b[1;33m\u001b[0m\u001b[0m\n",
      "\u001b[0;31mNameError\u001b[0m: name 'read_in_signal' is not defined"
     ]
    }
   ],
   "source": [
    "list_execute = [['FF_M_VOL_lag'], \n",
    "                ['FF_L_VOL_24W_lag_lag'],\n",
    "                ['FF_L_VOL_48W_lag_lag'],\n",
    "                ['FF_L_VOL_72W_lag_lag'],\n",
    "                ['FF_M_VOL_lag', 'FF_L_VOL_24W_lag_lag'],\n",
    "                ['FF_M_VOL_lag', 'FF_L_VOL_48W_lag_lag'],\n",
    "                ['FF_M_VOL_lag', 'FF_L_VOL_72W_lag_lag']\n",
    "                ]\n",
    "\n",
    "startdate = datetime.datetime(1965, 2, 1)\n",
    "enddate = datetime.datetime(2016, 12, 31)\n",
    "nyse_break_list = [True, False]\n",
    "wrapper_analysis_write('analysis_weekly_idio0303.xlsx','1963-07-2016-12', list_execute, startdate, enddate, nyse_break_list)"
   ]
  },
  {
   "cell_type": "markdown",
   "metadata": {},
   "source": [
    "## 4.3 Vol and Other Factors\n",
    "### 4.3.1 With Indicative Fee"
   ]
  },
  {
   "cell_type": "code",
   "execution_count": 10,
   "metadata": {
    "collapsed": false,
    "scrolled": true
   },
   "outputs": [],
   "source": [
    "list_execute = [['M_VOL_lag'], ['FF_M_VOL_lag'], ['IndicativeFee'],\n",
    "                ['M_VOL_lag', 'IndicativeFee_lag'],\n",
    "                ['FF_M_VOL_lag', 'IndicativeFee_lag']\n",
    "                ]\n",
    "\n",
    "date_list = [datetime.datetime(2004, 1, 1), datetime.datetime(2016, 12, 31)]\n",
    "\n",
    "nyse_break_list = [True, False]\n",
    "wrapper_analysis_write('analysis_shortfee0303.xlsx','2004-01-2016-12',\n",
    "                       list_execute, date_list[0], date_list[1], nyse_break_list)"
   ]
  },
  {
   "cell_type": "markdown",
   "metadata": {
    "collapsed": true
   },
   "source": [
    "### 4.3.2 With Size and Momentum"
   ]
  },
  {
   "cell_type": "code",
   "execution_count": 12,
   "metadata": {
    "collapsed": false
   },
   "outputs": [
    {
     "name": "stdout",
     "output_type": "stream",
     "text": [
      "Analyze and aggregate:  pfweight_M_VOL_lag_True1963-07-2016-12\n",
      "Analyze and aggregate:  pfweight_FF_M_VOL_lag_True1963-07-2016-12\n",
      "Analyze and aggregate:  pfweight_MKTCAP_M_lag_True1963-07-2016-12\n",
      "Analyze and aggregate:  pfweight_M_RET_lag_True1963-07-2016-12\n",
      "Analyze and aggregate:  pfweight_M_VOL_lag_MKTCAP_M_lag_True1963-07-2016-12\n",
      "skipped1964-05-01 00:00:00on 0th portfolio\n",
      "skipped1965-09-01 00:00:00on 0th portfolio\n",
      "skipped1965-10-01 00:00:00on 0th portfolio\n",
      "skipped1970-07-01 00:00:00on 0th portfolio\n",
      "skipped1970-12-01 00:00:00on 0th portfolio\n",
      "skipped1971-02-01 00:00:00on 0th portfolio\n",
      "skipped1971-03-01 00:00:00on 5th portfolio\n",
      "skipped1971-05-01 00:00:00on 0th portfolio\n",
      "skipped1972-07-01 00:00:00on 0th portfolio\n",
      "skipped1973-09-01 00:00:00on 0th portfolio\n",
      "skipped1964-05-01 00:00:00on 0th portfolio\n",
      "skipped1965-09-01 00:00:00on 0th portfolio\n",
      "skipped1965-10-01 00:00:00on 0th portfolio\n",
      "skipped1970-07-01 00:00:00on 0th portfolio\n",
      "skipped1970-12-01 00:00:00on 0th portfolio\n",
      "skipped1971-02-01 00:00:00on 0th portfolio\n",
      "skipped1971-03-01 00:00:00on 5th portfolio\n",
      "skipped1971-05-01 00:00:00on 0th portfolio\n",
      "skipped1972-07-01 00:00:00on 0th portfolio\n",
      "skipped1973-09-01 00:00:00on 0th portfolio\n",
      "Analyze and aggregate:  pfweight_FF_M_VOL_lag_MKTCAP_M_lag_True1963-07-2016-12\n",
      "skipped1964-05-01 00:00:00on 0th portfolio\n",
      "skipped1965-06-01 00:00:00on 0th portfolio\n",
      "skipped1965-08-01 00:00:00on 0th portfolio\n",
      "skipped1965-09-01 00:00:00on 0th portfolio\n",
      "skipped1965-10-01 00:00:00on 0th portfolio\n",
      "skipped1970-07-01 00:00:00on 0th portfolio\n",
      "skipped1970-09-01 00:00:00on 0th portfolio\n",
      "skipped1970-12-01 00:00:00on 0th portfolio\n",
      "skipped1971-03-01 00:00:00on 0th portfolio\n",
      "skipped1971-05-01 00:00:00on 0th portfolio\n",
      "skipped1971-07-01 00:00:00on 0th portfolio\n",
      "skipped1993-04-01 00:00:00on 0th portfolio\n",
      "skipped1964-05-01 00:00:00on 0th portfolio\n",
      "skipped1965-06-01 00:00:00on 0th portfolio\n",
      "skipped1965-08-01 00:00:00on 0th portfolio\n",
      "skipped1965-09-01 00:00:00on 0th portfolio\n",
      "skipped1965-10-01 00:00:00on 0th portfolio\n",
      "skipped1970-07-01 00:00:00on 0th portfolio\n",
      "skipped1970-09-01 00:00:00on 0th portfolio\n",
      "skipped1970-12-01 00:00:00on 0th portfolio\n",
      "skipped1971-03-01 00:00:00on 0th portfolio\n",
      "skipped1971-05-01 00:00:00on 0th portfolio\n",
      "skipped1971-07-01 00:00:00on 0th portfolio\n",
      "skipped1993-04-01 00:00:00on 0th portfolio\n",
      "Analyze and aggregate:  pfweight_M_VOL_lag_M_RET_lag_True1963-07-2016-12\n",
      "skipped1964-10-01 00:00:00on 4th portfolio\n",
      "skipped1965-07-01 00:00:00on 0th portfolio\n",
      "skipped1965-11-01 00:00:00on 4th portfolio\n",
      "skipped1965-12-01 00:00:00on 4th portfolio\n",
      "skipped1966-03-01 00:00:00on 4th portfolio\n",
      "skipped1967-02-01 00:00:00on 4th portfolio\n",
      "skipped1967-07-01 00:00:00on 9th portfolio\n",
      "skipped1967-10-01 00:00:00on 4th portfolio\n",
      "skipped1968-05-01 00:00:00on 4th portfolio\n",
      "skipped1968-06-01 00:00:00on 4th portfolio\n",
      "skipped1969-07-01 00:00:00on 0th portfolio\n",
      "skipped1969-10-01 00:00:00on 0th portfolio\n",
      "skipped1970-05-01 00:00:00on 0th portfolio\n",
      "skipped1970-10-01 00:00:00on 9th portfolio\n",
      "skipped1970-11-01 00:00:00on 0th portfolio\n",
      "skipped1971-02-01 00:00:00on 4th portfolio\n",
      "skipped1972-02-01 00:00:00on 4th portfolio\n",
      "skipped1973-08-01 00:00:00on 4th portfolio\n",
      "skipped1978-04-01 00:00:00on 4th portfolio\n",
      "skipped1978-11-01 00:00:00on 0th portfolio\n",
      "skipped1978-11-01 00:00:00on 1th portfolio\n",
      "skipped1978-11-01 00:00:00on 5th portfolio\n",
      "skipped1979-02-01 00:00:00on 4th portfolio\n",
      "skipped1996-05-01 00:00:00on 4th portfolio\n",
      "skipped1996-08-01 00:00:00on 0th portfolio\n",
      "skipped2000-03-01 00:00:00on 4th portfolio\n",
      "skipped2000-12-01 00:00:00on 0th portfolio\n",
      "skipped2001-03-01 00:00:00on 0th portfolio\n",
      "skipped2001-09-01 00:00:00on 0th portfolio\n",
      "skipped2004-02-01 00:00:00on 4th portfolio\n",
      "skipped2014-12-01 00:00:00on 0th portfolio\n",
      "skipped1964-10-01 00:00:00on 4th portfolio\n",
      "skipped1965-07-01 00:00:00on 0th portfolio\n",
      "skipped1965-11-01 00:00:00on 4th portfolio\n",
      "skipped1965-12-01 00:00:00on 4th portfolio\n",
      "skipped1966-03-01 00:00:00on 4th portfolio\n",
      "skipped1967-02-01 00:00:00on 4th portfolio\n",
      "skipped1967-07-01 00:00:00on 9th portfolio\n",
      "skipped1967-10-01 00:00:00on 4th portfolio\n",
      "skipped1968-05-01 00:00:00on 4th portfolio\n",
      "skipped1968-06-01 00:00:00on 4th portfolio\n",
      "skipped1969-07-01 00:00:00on 0th portfolio\n",
      "skipped1969-10-01 00:00:00on 0th portfolio\n",
      "skipped1970-05-01 00:00:00on 0th portfolio\n",
      "skipped1970-10-01 00:00:00on 9th portfolio\n",
      "skipped1970-11-01 00:00:00on 0th portfolio\n",
      "skipped1971-02-01 00:00:00on 4th portfolio\n",
      "skipped1972-02-01 00:00:00on 4th portfolio\n",
      "skipped1973-08-01 00:00:00on 4th portfolio\n",
      "skipped1978-04-01 00:00:00on 4th portfolio\n",
      "skipped1978-11-01 00:00:00on 0th portfolio\n",
      "skipped1978-11-01 00:00:00on 1th portfolio\n",
      "skipped1978-11-01 00:00:00on 5th portfolio\n",
      "skipped1979-02-01 00:00:00on 4th portfolio\n",
      "skipped1996-05-01 00:00:00on 4th portfolio\n",
      "skipped1996-08-01 00:00:00on 0th portfolio\n",
      "skipped2000-03-01 00:00:00on 4th portfolio\n",
      "skipped2000-12-01 00:00:00on 0th portfolio\n",
      "skipped2001-03-01 00:00:00on 0th portfolio\n",
      "skipped2001-09-01 00:00:00on 0th portfolio\n",
      "skipped2004-02-01 00:00:00on 4th portfolio\n",
      "skipped2014-12-01 00:00:00on 0th portfolio\n",
      "Analyze and aggregate:  pfweight_FF_M_VOL_lag_M_RET_lag_True1963-07-2016-12\n",
      "skipped1965-07-01 00:00:00on 0th portfolio\n",
      "skipped1965-11-01 00:00:00on 4th portfolio\n",
      "skipped1965-12-01 00:00:00on 4th portfolio\n",
      "skipped1966-03-01 00:00:00on 4th portfolio\n",
      "skipped1966-11-01 00:00:00on 0th portfolio\n",
      "skipped1967-10-01 00:00:00on 4th portfolio\n",
      "skipped1968-06-01 00:00:00on 4th portfolio\n",
      "skipped1969-07-01 00:00:00on 0th portfolio\n",
      "skipped1970-01-01 00:00:00on 0th portfolio\n",
      "skipped1970-05-01 00:00:00on 0th portfolio\n",
      "skipped1970-10-01 00:00:00on 9th portfolio\n",
      "skipped1970-11-01 00:00:00on 0th portfolio\n",
      "skipped1971-02-01 00:00:00on 4th portfolio\n",
      "skipped1972-02-01 00:00:00on 4th portfolio\n",
      "skipped1973-07-01 00:00:00on 0th portfolio\n",
      "skipped1973-08-01 00:00:00on 4th portfolio\n",
      "skipped1976-02-01 00:00:00on 4th portfolio\n",
      "skipped1978-11-01 00:00:00on 0th portfolio\n",
      "skipped1979-04-01 00:00:00on 4th portfolio\n",
      "skipped1980-01-01 00:00:00on 4th portfolio\n",
      "skipped1985-02-01 00:00:00on 4th portfolio\n",
      "skipped1991-02-01 00:00:00on 4th portfolio\n",
      "skipped1991-03-01 00:00:00on 4th portfolio\n",
      "skipped1992-02-01 00:00:00on 4th portfolio\n",
      "skipped1992-12-01 00:00:00on 4th portfolio\n",
      "skipped1996-05-01 00:00:00on 4th portfolio\n",
      "skipped1996-06-01 00:00:00on 4th portfolio\n",
      "skipped1996-08-01 00:00:00on 0th portfolio\n",
      "skipped1997-06-01 00:00:00on 4th portfolio\n",
      "skipped2000-03-01 00:00:00on 4th portfolio\n",
      "skipped2000-12-01 00:00:00on 0th portfolio\n",
      "skipped1965-07-01 00:00:00on 0th portfolio\n",
      "skipped1965-11-01 00:00:00on 4th portfolio\n",
      "skipped1965-12-01 00:00:00on 4th portfolio\n",
      "skipped1966-03-01 00:00:00on 4th portfolio\n",
      "skipped1966-11-01 00:00:00on 0th portfolio\n",
      "skipped1967-10-01 00:00:00on 4th portfolio\n",
      "skipped1968-06-01 00:00:00on 4th portfolio\n",
      "skipped1969-07-01 00:00:00on 0th portfolio\n",
      "skipped1970-01-01 00:00:00on 0th portfolio\n",
      "skipped1970-05-01 00:00:00on 0th portfolio\n",
      "skipped1970-10-01 00:00:00on 9th portfolio\n",
      "skipped1970-11-01 00:00:00on 0th portfolio\n",
      "skipped1971-02-01 00:00:00on 4th portfolio\n",
      "skipped1972-02-01 00:00:00on 4th portfolio\n",
      "skipped1973-07-01 00:00:00on 0th portfolio\n",
      "skipped1973-08-01 00:00:00on 4th portfolio\n",
      "skipped1976-02-01 00:00:00on 4th portfolio\n",
      "skipped1978-11-01 00:00:00on 0th portfolio\n",
      "skipped1979-04-01 00:00:00on 4th portfolio\n",
      "skipped1980-01-01 00:00:00on 4th portfolio\n",
      "skipped1985-02-01 00:00:00on 4th portfolio\n",
      "skipped1991-02-01 00:00:00on 4th portfolio\n",
      "skipped1991-03-01 00:00:00on 4th portfolio\n",
      "skipped1992-02-01 00:00:00on 4th portfolio\n",
      "skipped1992-12-01 00:00:00on 4th portfolio\n",
      "skipped1996-05-01 00:00:00on 4th portfolio\n",
      "skipped1996-06-01 00:00:00on 4th portfolio\n",
      "skipped1996-08-01 00:00:00on 0th portfolio\n",
      "skipped1997-06-01 00:00:00on 4th portfolio\n",
      "skipped2000-03-01 00:00:00on 4th portfolio\n",
      "skipped2000-12-01 00:00:00on 0th portfolio\n",
      "Analyze and aggregate:  pfweight_M_VOL_lag_False1963-07-2016-12\n",
      "Analyze and aggregate:  pfweight_FF_M_VOL_lag_False1963-07-2016-12\n",
      "Analyze and aggregate:  pfweight_MKTCAP_M_lag_False1963-07-2016-12\n",
      "Analyze and aggregate:  pfweight_M_RET_lag_False1963-07-2016-12\n",
      "Analyze and aggregate:  pfweight_M_VOL_lag_MKTCAP_M_lag_False1963-07-2016-12\n",
      "skipped1965-04-01 00:00:00on 24th portfolio\n",
      "skipped1967-07-01 00:00:00on 24th portfolio\n",
      "skipped1971-02-01 00:00:00on 24th portfolio\n",
      "skipped1965-04-01 00:00:00on 24th portfolio\n",
      "skipped1967-07-01 00:00:00on 24th portfolio\n",
      "skipped1971-02-01 00:00:00on 24th portfolio\n",
      "Analyze and aggregate:  pfweight_FF_M_VOL_lag_MKTCAP_M_lag_False1963-07-2016-12\n",
      "skipped1964-11-01 00:00:00on 24th portfolio\n",
      "skipped1965-04-01 00:00:00on 24th portfolio\n",
      "skipped1965-05-01 00:00:00on 24th portfolio\n",
      "skipped1965-06-01 00:00:00on 24th portfolio\n",
      "skipped1970-12-01 00:00:00on 24th portfolio\n",
      "skipped1971-01-01 00:00:00on 24th portfolio\n",
      "skipped1971-02-01 00:00:00on 24th portfolio\n",
      "skipped1964-11-01 00:00:00on 24th portfolio\n",
      "skipped1965-04-01 00:00:00on 24th portfolio\n",
      "skipped1965-05-01 00:00:00on 24th portfolio\n",
      "skipped1965-06-01 00:00:00on 24th portfolio\n",
      "skipped1970-12-01 00:00:00on 24th portfolio\n",
      "skipped1971-01-01 00:00:00on 24th portfolio\n",
      "skipped1971-02-01 00:00:00on 24th portfolio\n",
      "Analyze and aggregate:  pfweight_M_VOL_lag_M_RET_lag_False1963-07-2016-12\n",
      "skipped1978-04-01 00:00:00on 4th portfolio\n",
      "skipped1978-11-01 00:00:00on 0th portfolio\n",
      "skipped1980-12-01 00:00:00on 4th portfolio\n",
      "skipped2000-03-01 00:00:00on 4th portfolio\n",
      "skipped1978-04-01 00:00:00on 4th portfolio\n",
      "skipped1978-11-01 00:00:00on 0th portfolio\n",
      "skipped1980-12-01 00:00:00on 4th portfolio\n",
      "skipped2000-03-01 00:00:00on 4th portfolio\n",
      "Analyze and aggregate:  pfweight_FF_M_VOL_lag_M_RET_lag_False1963-07-2016-12\n",
      "skipped1980-01-01 00:00:00on 4th portfolio\n",
      "skipped1980-01-01 00:00:00on 4th portfolio\n"
     ]
    }
   ],
   "source": [
    "list_execute = [['M_VOL_lag'], ['FF_M_VOL_lag'], ['MKTCAP_M_lag'], ['M_RET_lag'],\n",
    "                ['M_VOL_lag', 'MKTCAP_M_lag'],\n",
    "                ['FF_M_VOL_lag', 'MKTCAP_M_lag'],\n",
    "                ['M_VOL_lag', 'M_RET_lag'],\n",
    "                ['FF_M_VOL_lag', 'M_RET_lag'],\n",
    "                ]\n",
    "date_list = [datetime.datetime(1965, 2, 1), datetime.datetime(2016, 12, 31)]\n",
    "nyse_break_list = [True, False]\n",
    "wrapper_analysis_write('analysis_size_mom0303.xlsx','1963-07-2016-12', list_execute, date_list[0], date_list[1], nyse_break_list)"
   ]
  },
  {
   "cell_type": "markdown",
   "metadata": {},
   "source": [
    "### 4.3.3 With beta"
   ]
  },
  {
   "cell_type": "code",
   "execution_count": null,
   "metadata": {
    "collapsed": true
   },
   "outputs": [],
   "source": [
    "list_execute = [['M_VOL_lag'], ['FF_M_VOL_lag'], ['beta_lag'],\n",
    "                ['M_VOL_lag', 'beta_lag'],\n",
    "                ['FF_M_VOL_lag', 'beta_lag'],\n",
    "                ]\n",
    "date_list = [datetime.datetime(1968, 7, 1), datetime.datetime(2016, 12, 31)]\n",
    "nyse_break_list = [True, False]\n",
    "wrapper_analysis_write('analysis_beta0303.xlsx','1968-07-2016-12', list_execute, date_list[0], date_list[1], nyse_break_list)"
   ]
  },
  {
   "cell_type": "markdown",
   "metadata": {},
   "source": [
    "## 4.4  Results after year 2004\n"
   ]
  },
  {
   "cell_type": "code",
   "execution_count": null,
   "metadata": {
    "collapsed": true
   },
   "outputs": [],
   "source": []
  },
  {
   "cell_type": "markdown",
   "metadata": {},
   "source": [
    "# Testing scripts"
   ]
  },
  {
   "cell_type": "markdown",
   "metadata": {},
   "source": [
    "# 5. Specific Quantile Portfolio Analysis"
   ]
  },
  {
   "cell_type": "code",
   "execution_count": null,
   "metadata": {
    "collapsed": true
   },
   "outputs": [],
   "source": [
    "% matplotlib inline\n",
    "import matplotlib.pyplot as plt\n",
    "\n",
    "def heatmap(df):\n",
    "    fig, ax = plt.subplots()\n",
    "    # setting\n",
    "#     heatmap = ax.pcolor(df, cmap=plt.cm.Blues, alpha=0.8)\n",
    "    heatmap = ax.pcolor(df, alpha=0.8)\n",
    "\n",
    "    # turn off the frame\n",
    "    ax.set_frame_on(False)\n",
    "\n",
    "    # put the major ticks at the middle of each cell\n",
    "    ax.set_yticks(np.arange(df.shape[0]) + 1, minor=False)\n",
    "    ax.set_xticks(np.arange(df.shape[1]) + 1, minor=False)\n",
    "\n",
    "    # want a more natural, table-like display\n",
    "    ax.invert_yaxis()\n",
    "    ax.xaxis.tick_top()\n",
    "\n",
    "\n",
    "    # note I could have used nba_sort.columns but made \"labels\" instead\n",
    "    ax.set_xticklabels(df.columns, minor=False)\n",
    "    ax.set_yticklabels(df.index, minor=False)\n"
   ]
  },
  {
   "cell_type": "code",
   "execution_count": 111,
   "metadata": {
    "collapsed": true
   },
   "outputs": [],
   "source": [
    "analysis_robot = post_data_analysis('pfweight_M_VOL_lag_True1963-07-2016-12')"
   ]
  },
  {
   "cell_type": "code",
   "execution_count": null,
   "metadata": {
    "collapsed": true
   },
   "outputs": [],
   "source": []
  },
  {
   "cell_type": "code",
   "execution_count": 120,
   "metadata": {
    "collapsed": false
   },
   "outputs": [
    {
     "data": {
      "text/plain": [
       "<matplotlib.legend.Legend at 0xc10d3d8780>"
      ]
     },
     "execution_count": 120,
     "metadata": {},
     "output_type": "execute_result"
    },
    {
     "data": {
      "image/png": "[encoded data removed]",
      "text/plain": [
       "<matplotlib.figure.Figure at 0xc10d3d8748>"
      ]
     },
     "metadata": {},
     "output_type": "display_data"
    }
   ],
   "source": [
    "plt.plot(analysis_robot.return_series.cumprod(axis=0))\n",
    "plt.legend(np.arange(25)+1, loc='best')"
   ]
  }
 ],
 "metadata": {
  "anaconda-cloud": {},
  "kernelspec": {
   "display_name": "Python [conda root]",
   "language": "python",
   "name": "conda-root-py"
  },
  "language_info": {
   "codemirror_mode": {
    "name": "ipython",
    "version": 3
   },
   "file_extension": ".py",
   "mimetype": "text/x-python",
   "name": "python",
   "nbconvert_exporter": "python",
   "pygments_lexer": "ipython3",
   "version": "3.5.2"
  }
 },
 "nbformat": 4,
 "nbformat_minor": 1
}
