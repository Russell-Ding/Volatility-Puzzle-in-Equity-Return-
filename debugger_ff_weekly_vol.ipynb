{
 "cells": [
  {
   "cell_type": "code",
   "execution_count": 1,
   "metadata": {
    "collapsed": true
   },
   "outputs": [],
   "source": [
    "% matplotlib inline\n",
    "import numpy as np\n",
    "import pandas as pd\n",
    "\n",
    "import matplotlib.pyplot as plt\n",
    "\n",
    "import datetime\n",
    "\n",
    "import sys\n",
    "sys.path.append('C:\\\\project\\\\code')\n",
    "import setting\n",
    "\n",
    "import prepare_data0301"
   ]
  },
  {
   "cell_type": "code",
   "execution_count": 2,
   "metadata": {
    "collapsed": false
   },
   "outputs": [
    {
     "name": "stdout",
     "output_type": "stream",
     "text": [
      "Start reading CSV...\n",
      "Done reading CSV...\n",
      "Total-Vol: Formatting data...\n"
     ]
    }
   ],
   "source": [
    "data = prepare_data0301._load_raw_data('../input/stock300.csv')\n",
    "\n",
    "daily_return, weekly_return, t = prepare_data0301.main_total_vol(data)"
   ]
  },
  {
   "cell_type": "code",
   "execution_count": 3,
   "metadata": {
    "collapsed": true
   },
   "outputs": [],
   "source": [
    "ff = pd.read_csv('../input/famafrench.csv')\n",
    "ff['date'] = pd.to_datetime(ff['date'], format='%Y%m%d')\n",
    "ff.set_index('date', inplace=True)\n",
    "ff.columns = ['MKT_RF', 'SMB', 'HML', 'RF']\n",
    "weekly_ff = (1.0+ff).resample('W').prod() - 1.0\n",
    "weekly_ff = weekly_ff.to_period('W')\n",
    "weekly_data = pd.concat(\n",
    "    [weekly_return, weekly_ff[['MKT_RF', 'SMB', 'HML', 'RF']]],\n",
    "    axis=1,\n",
    "    join='inner'\n",
    ")"
   ]
  },
  {
   "cell_type": "code",
   "execution_count": 4,
   "metadata": {
    "collapsed": true
   },
   "outputs": [],
   "source": [
    "\n",
    "weekly_data['const'] = 1\n",
    "\n",
    "weekly_data[weekly_return.columns] = (\n",
    "    weekly_data[weekly_return.columns].sub(weekly_data['RF'], axis=0)\n",
    ")\n"
   ]
  },
  {
   "cell_type": "code",
   "execution_count": null,
   "metadata": {
    "collapsed": true
   },
   "outputs": [],
   "source": []
  },
  {
   "cell_type": "code",
   "execution_count": 5,
   "metadata": {
    "collapsed": true
   },
   "outputs": [],
   "source": [
    "return_data = weekly_data\n",
    "num_periods = 12"
   ]
  },
  {
   "cell_type": "code",
   "execution_count": 185,
   "metadata": {
    "collapsed": true
   },
   "outputs": [],
   "source": [
    "def _get_long_ff_vol_from_mthly(return_data, num_periods=12):\n",
    "    global counter\n",
    "    counter = 0\n",
    "    \n",
    "    permno_list = [\n",
    "        x for x in return_data.columns\n",
    "        if x not in ['const', 'RF', 'MKT_RF', 'HML', 'SMB']\n",
    "        ]\n",
    "    \n",
    "    X = return_data[['const', 'MKT_RF', 'HML', 'SMB']] # copy\n",
    "    ylist = return_data[permno_list]\n",
    "    \n",
    "    # convert to numpy array to speed up\n",
    "    X_np = X.values\n",
    "    ylist_np = ylist.values\n",
    "    \n",
    "    long_ff_vol = pd.DataFrame(index=return_data.index[num_periods-1:], columns=permno_list)\n",
    "    \n",
    "    for index1 in range(num_periods, len(return_data)+1):\n",
    "        index0 = index1 - num_periods\n",
    "        X_slice = X_np[index0:index1,:]\n",
    "        ylist_slice = ylist_np[index0:index1,:]\n",
    "        vol_one_period = np.apply_along_axis(prepare_data0301._ff_reg_long,\n",
    "                                             0, ylist_slice, \n",
    "                                             ff_factors=X_slice, min_sample_size=10)\n",
    "        long_ff_vol.loc[return_data.index[index1-1], :] = vol_one_period\n",
    "    long_ff_vol.columns = long_ff_vol.columns.rename('PERMNO')\n",
    "    return long_ff_vol.to_period('M')"
   ]
  },
  {
   "cell_type": "code",
   "execution_count": 44,
   "metadata": {
    "collapsed": false
   },
   "outputs": [],
   "source": [
    "temp = _get_long_ff_vol_from_mthly(weekly_data)"
   ]
  },
  {
   "cell_type": "code",
   "execution_count": 6,
   "metadata": {
    "collapsed": true
   },
   "outputs": [],
   "source": [
    "import time"
   ]
  },
  {
   "cell_type": "code",
   "execution_count": 8,
   "metadata": {
    "collapsed": false
   },
   "outputs": [
    {
     "name": "stdout",
     "output_type": "stream",
     "text": [
      "321.6414670944214\n"
     ]
    }
   ],
   "source": [
    "start = time.time()\n",
    "temp2 = prepare_data0301._get_long_ff_vol(weekly_data,);\n",
    "end = time.time()\n",
    "print(end-start)"
   ]
  },
  {
   "cell_type": "code",
   "execution_count": 12,
   "metadata": {
    "collapsed": true
   },
   "outputs": [],
   "source": [
    "def _get_long_ff_vol_from_weekly(return_data, num_periods=12):\n",
    "    permno_list = [\n",
    "        x for x in return_data.columns\n",
    "        if x not in ['const', 'RF', 'MKT_RF', 'HML', 'SMB']\n",
    "        ]\n",
    "\n",
    "    X = return_data[['const', 'MKT_RF', 'HML', 'SMB']] # copy\n",
    "    ylist = return_data[permno_list]\n",
    "\n",
    "    # convert to numpy array to speed up\n",
    "    X_np = X.values\n",
    "    ylist_np = ylist.values\n",
    "    \n",
    "    # index for the X and Y value\n",
    "    idx_weekly = return_data.index.to_series().astype(str)\n",
    "    idx_weekly = idx_weekly.apply(lambda x: pd.to_datetime(x[-10:])).to_frame()\n",
    "    idx_weekly['idx'] = np.arange(idx_weekly.shape[0])  # record the location in the original array\n",
    "    idx_weekly = idx_weekly.set_index('date')\n",
    "    \n",
    "    # extract the index at the end of each month\n",
    "    idx_mthly = idx_weekly.resample('M').last()\n",
    "    \n",
    "    # the container\n",
    "    long_ff_vol = pd.DataFrame(index=idx_weekly.index[num_periods-1:], columns=permno_list)\n",
    "    long_ff_vol = long_ff_vol.resample('M').last()\n",
    "    \n",
    "    # monthly index we loop through\n",
    "    idx_use = idx_mthly[idx_mthly['idx'] > num_periods -1 ]\n",
    "    idx_use_value = np.squeeze(idx_use.values)\n",
    "    \n",
    "    for i in range(idx_use.shape[0]):\n",
    "        index1 = idx_use_value[i]\n",
    "        index0 = index1 - num_periods\n",
    "        X_slice = X_np[index0:index1,:]\n",
    "        ylist_slice = ylist_np[index0:index1,:]\n",
    "        vol_one_period = np.apply_along_axis(prepare_data0301._ff_reg_long,\n",
    "                                             0, ylist_slice, \n",
    "                                             ff_factors=X_slice, min_sample_size=10)\n",
    "        long_ff_vol.loc[idx_use.index[i], :] = vol_one_period\n",
    "        \n",
    "    long_ff_vol.columns = long_ff_vol.columns.rename('PERMNO')\n",
    "    return long_ff_vol.to_period('M')"
   ]
  },
  {
   "cell_type": "code",
   "execution_count": 13,
   "metadata": {
    "collapsed": false
   },
   "outputs": [
    {
     "name": "stdout",
     "output_type": "stream",
     "text": [
      "23.92636203765869\n"
     ]
    }
   ],
   "source": [
    "start = time.time()\n",
    "temp = _get_long_ff_vol_from_weekly(weekly_data)\n",
    "end = time.time()\n",
    "print(end-start)"
   ]
  },
  {
   "cell_type": "code",
   "execution_count": null,
   "metadata": {
    "collapsed": true
   },
   "outputs": [],
   "source": []
  },
  {
   "cell_type": "code",
   "execution_count": null,
   "metadata": {
    "collapsed": true
   },
   "outputs": [],
   "source": [
    "# Debug the weekly total vol"
   ]
  },
  {
   "cell_type": "code",
   "execution_count": 2,
   "metadata": {
    "collapsed": false
   },
   "outputs": [
    {
     "name": "stdout",
     "output_type": "stream",
     "text": [
      "Start reading CSV...\n",
      "Done reading CSV...\n"
     ]
    }
   ],
   "source": [
    "data = prepare_data0301._load_raw_data('../input/stock300.csv')"
   ]
  },
  {
   "cell_type": "code",
   "execution_count": 3,
   "metadata": {
    "collapsed": true
   },
   "outputs": [],
   "source": [
    "daily_return = prepare_data0301._get_daily_return(data)"
   ]
  },
  {
   "cell_type": "code",
   "execution_count": 4,
   "metadata": {
    "collapsed": true
   },
   "outputs": [],
   "source": [
    "weekly_return = prepare_data0301._get_weekly_return(daily_return)"
   ]
  },
  {
   "cell_type": "code",
   "execution_count": 5,
   "metadata": {
    "collapsed": true
   },
   "outputs": [],
   "source": [
    "long_vol_24w = prepare_data0301._get_long_vol_from_weekly_return(weekly_return,24)"
   ]
  },
  {
   "cell_type": "code",
   "execution_count": 11,
   "metadata": {
    "collapsed": false
   },
   "outputs": [],
   "source": [
    "long_vol_24w.index = long_vol_24w.index.to_datetime()\n",
    "long_vol_24w = long_vol_24w.resample('M').last().to_period('M')"
   ]
  },
  {
   "cell_type": "code",
   "execution_count": 14,
   "metadata": {
    "collapsed": false
   },
   "outputs": [],
   "source": []
  }
 ],
 "metadata": {
  "kernelspec": {
   "display_name": "Python [conda root]",
   "language": "python",
   "name": "conda-root-py"
  },
  "language_info": {
   "codemirror_mode": {
    "name": "ipython",
    "version": 3
   },
   "file_extension": ".py",
   "mimetype": "text/x-python",
   "name": "python",
   "nbconvert_exporter": "python",
   "pygments_lexer": "ipython3",
   "version": "3.5.2"
  }
 },
 "nbformat": 4,
 "nbformat_minor": 1
}
