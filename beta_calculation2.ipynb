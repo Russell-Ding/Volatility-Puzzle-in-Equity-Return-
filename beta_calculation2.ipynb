{
 "cells": [
  {
   "cell_type": "code",
   "execution_count": 1,
   "metadata": {
    "collapsed": true
   },
   "outputs": [],
   "source": [
    "\"\"\"Development scripts for calculation beta\n",
    "final version\n",
    "\"\"\"\n",
    "% matplotlib inline\n",
    "import numpy as np\n",
    "import pandas as pd\n",
    "\n",
    "import matplotlib.pyplot as plt\n",
    "\n",
    "import datetime\n",
    "\n",
    "import sys\n",
    "sys.path.append('C:\\\\project\\\\code')\n",
    "import setting\n",
    "\n",
    "import prepare_data0301"
   ]
  },
  {
   "cell_type": "code",
   "execution_count": 2,
   "metadata": {
    "collapsed": false
   },
   "outputs": [
    {
     "name": "stdout",
     "output_type": "stream",
     "text": [
      "Start reading CSV...\n",
      "Done reading CSV...\n",
      "Total-Vol: Formatting data...\n"
     ]
    }
   ],
   "source": [
    "data = prepare_data0301._load_raw_data('../input/stock300.csv')\n",
    "\n",
    "daily_return, weekly_return, t = prepare_data0301.main_total_vol(data)"
   ]
  },
  {
   "cell_type": "code",
   "execution_count": 3,
   "metadata": {
    "collapsed": false
   },
   "outputs": [],
   "source": [
    "def _get_beta(daily_return):\n",
    "    # prepare raw dataframe\n",
    "    ff = pd.read_csv(setting.datapath+'famafrench.csv')\n",
    "    ff['date'] = pd.to_datetime(ff['date'], format='%Y%m%d')\n",
    "    ff.set_index('date', inplace=True)\n",
    "    ff.columns = ['MKT_RF', 'SMB', 'HML', 'RF']\n",
    "    daily_data = pd.concat(\n",
    "        [daily_return, ff[['MKT_RF']]], \n",
    "        axis=1, \n",
    "        join='inner'\n",
    "        )\n",
    "\n",
    "    permno_list = [\n",
    "            x for x in daily_data.columns\n",
    "            if x not in ['MKT_RF']\n",
    "            ]\n",
    "    \n",
    "    # convert log ret\n",
    "    daily_log_ret = np.log(1.0+daily_data)\n",
    "    overlap_log_ret = daily_log_ret.rolling(3).sum()\n",
    "    \n",
    "    # 1-year horizon for vol, daily log ret \n",
    "    mkt_vol = daily_log_ret['MKT_RF'].rolling(window= 251, min_periods=120).std()\n",
    "    stk_vol = daily_log_ret[permno_list].rolling(window= 251, min_periods=120).std()\n",
    "    \n",
    "    # 5-year horizon for corr, sum of 3 daily log ret\n",
    "    stk_corr = overlap_log_ret[permno_list].rolling(window=1255, min_periods=750).corr(overlap_log_ret['MKT_RF'])\n",
    "    \n",
    "    # calculation of beta\n",
    "    # http://stackoverflow.com/questions/22642162/python-divide-each-row-of-a-dataframe-by-another-dataframe-vector\n",
    "    stk_mkt = stk_vol.divide(mkt_vol, axis='index')\n",
    "    stk_beta = stk_corr.multiply(stk_mkt)\n",
    "    \n",
    "    stk_beta_mthly = stk_beta.resample('M').last()\n",
    "    stk_beta_mthly = stk_beta_mthly.to_period('M')\n",
    "    \n",
    "    stk_beta_mthly.stack(dropna=True).to_csv(setting.datapath_prepared+'beta.csv', header=['beta'])"
   ]
  },
  {
   "cell_type": "code",
   "execution_count": null,
   "metadata": {
    "collapsed": true
   },
   "outputs": [],
   "source": []
  },
  {
   "cell_type": "code",
   "execution_count": 4,
   "metadata": {
    "collapsed": true
   },
   "outputs": [],
   "source": [
    "_get_beta(daily_return)"
   ]
  },
  {
   "cell_type": "code",
   "execution_count": null,
   "metadata": {
    "collapsed": true
   },
   "outputs": [],
   "source": []
  },
  {
   "cell_type": "code",
   "execution_count": 43,
   "metadata": {
    "collapsed": false
   },
   "outputs": [],
   "source": [
    "# prepare raw dataframe\n",
    "ff = pd.read_csv('../input/famafrench.csv')\n",
    "ff['date'] = pd.to_datetime(ff['date'], format='%Y%m%d')\n",
    "ff.set_index('date', inplace=True)\n",
    "ff.columns = ['MKT_RF', 'SMB', 'HML', 'RF']\n",
    "daily_data = pd.concat(\n",
    "    [daily_return, ff[['MKT_RF']]], \n",
    "    axis=1, \n",
    "    join='inner'\n",
    "    )\n",
    "\n",
    "permno_list = [\n",
    "        x for x in daily_data.columns\n",
    "        if x not in ['MKT_RF']\n",
    "        ]"
   ]
  },
  {
   "cell_type": "code",
   "execution_count": null,
   "metadata": {
    "collapsed": true
   },
   "outputs": [],
   "source": [
    "# convert log ret\n",
    "daily_log_ret = np.log(1.0+daily_data)\n",
    "overlap_log_ret = daily_log_ret.rolling(3).sum()"
   ]
  },
  {
   "cell_type": "code",
   "execution_count": 84,
   "metadata": {
    "collapsed": false
   },
   "outputs": [],
   "source": [
    "# 1-year horizon for vol, daily log ret \n",
    "mkt_vol = daily_log_ret['MKT_RF'].rolling(window= 251, min_periods=120).std()\n",
    "stk_vol = daily_log_ret[permno_list].rolling(window= 251, min_periods=120).std()\n",
    "\n",
    "# 5-year horizon for corr, sum of 3 daily log ret\n",
    "stk_corr = overlap_log_ret[permno_list].rolling(window=1255, min_periods=750).corr(overlap_log_ret['MKT_RF'])"
   ]
  },
  {
   "cell_type": "code",
   "execution_count": 96,
   "metadata": {
    "collapsed": false
   },
   "outputs": [],
   "source": [
    "# calculation of beta\n",
    "# http://stackoverflow.com/questions/22642162/python-divide-each-row-of-a-dataframe-by-another-dataframe-vector\n",
    "stk_mkt = stk_vol.divide(mkt_vol, axis='index')\n",
    "stk_beta = stk_corr.multiply(stk_mkt)"
   ]
  },
  {
   "cell_type": "code",
   "execution_count": 99,
   "metadata": {
    "collapsed": false
   },
   "outputs": [],
   "source": [
    "stk_beta_mthly = stk_beta.resample('M').last()\n",
    "stk_beta_mthly = stk_beta_mthly.to_period('M')"
   ]
  },
  {
   "cell_type": "code",
   "execution_count": 101,
   "metadata": {
    "collapsed": false
   },
   "outputs": [],
   "source": [
    "stk_beta_mthly.stack(dropna=True).to_csv(setting.datapath_prepared+'beta.csv', header=['beta'])"
   ]
  },
  {
   "cell_type": "code",
   "execution_count": 81,
   "metadata": {
    "collapsed": false
   },
   "outputs": [
    {
     "data": {
      "text/html": [
       "<div>\n",
       "<table border=\"1\" class=\"dataframe\">\n",
       "  <thead>\n",
       "    <tr style=\"text-align: right;\">\n",
       "      <th></th>\n",
       "      <th>a</th>\n",
       "      <th>b</th>\n",
       "      <th>c</th>\n",
       "    </tr>\n",
       "  </thead>\n",
       "  <tbody>\n",
       "    <tr>\n",
       "      <th>0</th>\n",
       "      <td>1.0</td>\n",
       "      <td>4.0</td>\n",
       "      <td>5.0</td>\n",
       "    </tr>\n",
       "    <tr>\n",
       "      <th>1</th>\n",
       "      <td>3.0</td>\n",
       "      <td>8.0</td>\n",
       "      <td>45.0</td>\n",
       "    </tr>\n",
       "    <tr>\n",
       "      <th>2</th>\n",
       "      <td>2.5</td>\n",
       "      <td>1.5</td>\n",
       "      <td>33.5</td>\n",
       "    </tr>\n",
       "    <tr>\n",
       "      <th>3</th>\n",
       "      <td>1.0</td>\n",
       "      <td>3.5</td>\n",
       "      <td>17.0</td>\n",
       "    </tr>\n",
       "  </tbody>\n",
       "</table>\n",
       "</div>"
      ],
      "text/plain": [
       "     a    b     c\n",
       "0  1.0  4.0   5.0\n",
       "1  3.0  8.0  45.0\n",
       "2  2.5  1.5  33.5\n",
       "3  1.0  3.5  17.0"
      ]
     },
     "execution_count": 81,
     "metadata": {},
     "output_type": "execute_result"
    }
   ],
   "source": [
    "import pandas as pd\n",
    "\n",
    "data1 = {\"a\":[1.,3.,5.,2.],\n",
    "         \"b\":[4.,8.,3.,7.],\n",
    "         \"c\":[5.,45.,67.,34]}\n",
    "data2 = [1, 1, 2, 2]\n",
    "\n",
    "df1 = pd.DataFrame(data1)\n",
    "df2 = pd.DataFrame(data2) \n",
    "\n",
    "df1.div(df2[0],axis='index')\n"
   ]
  },
  {
   "cell_type": "code",
   "execution_count": 90,
   "metadata": {
    "collapsed": false
   },
   "outputs": [],
   "source": []
  }
 ],
 "metadata": {
  "kernelspec": {
   "display_name": "Python [conda root]",
   "language": "python",
   "name": "conda-root-py"
  },
  "language_info": {
   "codemirror_mode": {
    "name": "ipython",
    "version": 3
   },
   "file_extension": ".py",
   "mimetype": "text/x-python",
   "name": "python",
   "nbconvert_exporter": "python",
   "pygments_lexer": "ipython3",
   "version": "3.5.2"
  }
 },
 "nbformat": 4,
 "nbformat_minor": 1
}
